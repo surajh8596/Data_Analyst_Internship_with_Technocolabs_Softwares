{
 "cells": [
  {
   "cell_type": "markdown",
   "id": "6c3b3cd4",
   "metadata": {
    "id": "6c3b3cd4"
   },
   "source": [
    "<h1 style=\"color:purple; background:yellow; line-height:2; text-align:center\">📊 START-UP ACQUISITION STATUS PREDICTION 📊</h1>\n",
    "<h4 style=\"color:red; text-align:right\">By: Mr. Suraj Honkamble</h4>"
   ]
  },
  {
   "cell_type": "markdown",
   "id": "7768f184",
   "metadata": {
    "id": "7768f184"
   },
   "source": [
    "<h2 style=\"color:blue; background:lightblue;line-height:2; text-align:center;\">Table of Content: 🎡🎡</h2>\n",
    "<h3 style=\"color:magenta; line-height:1.7;\">1. Objective of the Project<br>\n",
    "    2. Data info<br>\n",
    "    3. Loading the packages or libraries<br>\n",
    "    4. Loading the dataset<br>\n",
    "    5. Understandng our data<br>\n",
    "    6. Data Cleaning<br>\n",
    "    &nbsp;&nbsp;&nbsp;&nbsp; i. Delete irrelevant & redundant information<br>\n",
    "    &nbsp;&nbsp;&nbsp;&nbsp; ii. Remove noise or unreliable data (duplicate, missing values and outliers).<br>\n",
    "    &nbsp;&nbsp;&nbsp;&nbsp; iii. Data Transformation<br>\n",
    "    &nbsp;&nbsp;&nbsp;&nbsp; iv. Feature Creation<br>\n",
    "    7. Exploratory Data Analysis<br>\n",
    "    &nbsp;&nbsp;&nbsp;&nbsp; i. Univariate Analysis<br>\n",
    "    &nbsp;&nbsp;&nbsp;&nbsp; ii. Bivariate Analysis<br>\n",
    "    &nbsp;&nbsp;&nbsp;&nbsp; iii. Multivariate Analysis<br>\n",
    "    8. Feature Engineering<br>\n",
    "    &nbsp;&nbsp;&nbsp;&nbsp; i. Feature Selection Techniques<br>\n",
    "    &nbsp;&nbsp;&nbsp;&nbsp; ii. Feature Reduction Techniques<br>\n",
    "    9. ML Model Building<br>\n",
    "    </h3>"
   ]
  },
  {
   "cell_type": "markdown",
   "id": "6967643f",
   "metadata": {
    "id": "6967643f"
   },
   "source": [
    "<h2 style=\"color:blue; background:lightgreen;line-height:2; text-align:center;\">Objective of the Project: 🎯🎯</h2>\n",
    "<h3 style=\"color:green; line-height:1.2;\"> The objective of the project is to predict whether a startup which is currently Operating, IPO, Acquired, or closed.This problem will be solved through a Supervised Machine Learning approach by training a model based on the history of startups which were either acquired or closed.</h3>"
   ]
  },
  {
   "cell_type": "markdown",
   "id": "dfa5153a",
   "metadata": {
    "id": "dfa5153a"
   },
   "source": [
    "<h2 style=\"color:blue; background:lightgreen;line-height:2; text-align:center;\">Data Info: 📰📰</h2>\n",
    "<h3 style=\"color:green; line-height:1.5;\">There are 196562 rows and 44 columns out of which will be used as features. The rest provide more information about the data, but will not be used for model training (like normalized name, entity id, short description etc.)<br><br>\n",
    "    <b style=\"color:red\"> 1. entity_type : </b> Type of company.<br>\n",
    "    <b style=\"color:red\"> 2. entity_id : </b> Unique Id for each entity.<br>\n",
    "    <b style=\"color:red\"> 3. name : </b> Name of the entity or company.<br>\n",
    "    <b style=\"color:red\"> 4. category_code : </b> Type of company.<br>\n",
    "    <b style=\"color:red\"> 5. status : </b> Status of the company, whether it is operating or not and this is our target variable.<br>\n",
    "    <b style=\"color:red\"> 6. founded_at : </b> Company foundation yera.<br>\n",
    "    <b style=\"color:red\"> 7. closed_at : </b> Company shut-down year.<br>\n",
    "    <b style=\"color:red\"> 8. country_code, state_code, city, region : </b> Country, State, City and region which the company located at.<br>\n",
    "    <b style=\"color:red\"> 9. first_investment_at, last_investment_at : </b> First and Last Investment Dates.<br>\n",
    "    <b style=\"color:red\"> 10. investment_rounds : </b> Count of Investment rounds take place.<br>\n",
    "    <b style=\"color:red\"> 11. invested_companies : </b> Count of companies who are invested in this company.<br>\n",
    "    <b style=\"color:red\"> 12. first_funding_at, last_funding_at : </b> First and Last funding date.<br>\n",
    "    <b style=\"color:red\"> 13. funding_rounds : </b> Count of funding rounds.<br>\n",
    "    <b style=\"color:red\"> 14. funding_total_usd : </b> Amount of total funding in US Dollar.<br>\n",
    "    <b style=\"color:red\"> 15. first_milestone_at, last_milestone_at : </b> Date on which company achieved their first and last targeted milestone.<br>\n",
    "    <b style=\"color:red\"> 16. milestones : </b> Number of milestones achieved by each company.<br>\n",
    "    <b style=\"color:red\"> 17. relationships : </b> Number of relations company has with various stackholders.<br>\n",
    "    <b style=\"color:red\"> 18. created_by : </b> Company Creator name.<br>\n",
    "    <b style=\"color:red\"> 19. created_at, updated_at : </b> Company Created and Updated dates.<br>\n",
    "    <b style=\"color:red\"> 20. lat, lng : </b> Latitude and Longitude of the company location.<br>\n",
    "    <b style=\"color:red\"> 21. ROI : </b> Return of Investment.<br>"
   ]
  },
  {
   "cell_type": "markdown",
   "id": "0a7b816c",
   "metadata": {
    "id": "0a7b816c"
   },
   "source": [
    "<h2 style=\"color:blue; background:lightgreen;line-height:2; text-align:center;\">Import required libraries 📕📗</h2>"
   ]
  },
  {
   "cell_type": "code",
   "execution_count": 9,
   "id": "19a1516a",
   "metadata": {
    "executionInfo": {
     "elapsed": 11,
     "status": "ok",
     "timestamp": 1704007234145,
     "user": {
      "displayName": "Suraj Honkamble",
      "userId": "12057367661613408191"
     },
     "user_tz": -330
    },
    "id": "19a1516a"
   },
   "outputs": [],
   "source": [
    "# Data loading and manipulating libraries\n",
    "import pandas as pd\n",
    "import numpy as np\n",
    "\n",
    "# Set column visibility to 50, because our dataset contains 44 column\n",
    "pd.set_option('display.max_columns', 50)\n",
    "\n",
    "# Data visualization libraries\n",
    "import matplotlib.pyplot as plt\n",
    "import seaborn as sns\n",
    "import plotly.express as px\n",
    "import plotly.graph_objects as go\n",
    "\n",
    "# Avoiding uncessary warnings\n",
    "import warnings\n",
    "warnings.filterwarnings('ignore')\n",
    "\n",
    "# Train Test Split\n",
    "from sklearn.model_selection import train_test_split\n",
    "\n",
    "# Feature Engineering-Encoding\n",
    "from sklearn.preprocessing import OneHotEncoder, LabelEncoder, StandardScaler\n",
    "\n",
    "# Feature Selection and Feature Reduction\n",
    "from sklearn.decomposition import PCA\n",
    "from sklearn.feature_selection import SelectKBest, mutual_info_classif\n",
    "\n",
    "# Oversampling the lower target class\n",
    "from imblearn.over_sampling import SMOTE\n",
    "\n",
    "# Evaluation Metrics\n",
    "from sklearn.metrics import classification_report, accuracy_score, recall_score, f1_score, precision_score, confusion_matrix\n",
    "\n",
    "\n",
    "# Classification Algorithm\n",
    "from sklearn.linear_model import LogisticRegression\n",
    "from sklearn.naive_bayes import GaussianNB\n",
    "from sklearn.neighbors import KNeighborsClassifier\n",
    "from sklearn.svm import SVC\n",
    "from sklearn.tree import DecisionTreeClassifier\n",
    "from sklearn.ensemble import RandomForestClassifier, AdaBoostClassifier, ExtraTreesClassifier, GradientBoostingClassifier\n",
    "from xgboost import XGBClassifier"
   ]
  },
  {
   "cell_type": "markdown",
   "id": "c7e83c03",
   "metadata": {
    "id": "c7e83c03"
   },
   "source": [
    "<h2 style=\"color:blue; background:lightgreen;line-height:2; text-align:center\">Loading the dataset 📂📂</h2>"
   ]
  },
  {
   "cell_type": "code",
   "execution_count": null,
   "id": "cb69874b",
   "metadata": {
    "id": "cb69874b",
    "outputId": "fe9ec71c-c576-470b-eee0-9dd9d645e312"
   },
   "outputs": [
    {
     "data": {
      "text/html": [
       "<div>\n",
       "<style scoped>\n",
       "    .dataframe tbody tr th:only-of-type {\n",
       "        vertical-align: middle;\n",
       "    }\n",
       "\n",
       "    .dataframe tbody tr th {\n",
       "        vertical-align: top;\n",
       "    }\n",
       "\n",
       "    .dataframe thead th {\n",
       "        text-align: right;\n",
       "    }\n",
       "</style>\n",
       "<table border=\"1\" class=\"dataframe\">\n",
       "  <thead>\n",
       "    <tr style=\"text-align: right;\">\n",
       "      <th></th>\n",
       "      <th>id</th>\n",
       "      <th>Unnamed: 0.1</th>\n",
       "      <th>entity_type</th>\n",
       "      <th>entity_id</th>\n",
       "      <th>parent_id</th>\n",
       "      <th>name</th>\n",
       "      <th>normalized_name</th>\n",
       "      <th>permalink</th>\n",
       "      <th>category_code</th>\n",
       "      <th>status</th>\n",
       "      <th>founded_at</th>\n",
       "      <th>closed_at</th>\n",
       "      <th>domain</th>\n",
       "      <th>homepage_url</th>\n",
       "      <th>twitter_username</th>\n",
       "      <th>logo_url</th>\n",
       "      <th>logo_width</th>\n",
       "      <th>logo_height</th>\n",
       "      <th>short_description</th>\n",
       "      <th>description</th>\n",
       "      <th>overview</th>\n",
       "      <th>tag_list</th>\n",
       "      <th>country_code</th>\n",
       "      <th>state_code</th>\n",
       "      <th>city</th>\n",
       "      <th>region</th>\n",
       "      <th>first_investment_at</th>\n",
       "      <th>last_investment_at</th>\n",
       "      <th>investment_rounds</th>\n",
       "      <th>invested_companies</th>\n",
       "      <th>first_funding_at</th>\n",
       "      <th>last_funding_at</th>\n",
       "      <th>funding_rounds</th>\n",
       "      <th>funding_total_usd</th>\n",
       "      <th>first_milestone_at</th>\n",
       "      <th>last_milestone_at</th>\n",
       "      <th>milestones</th>\n",
       "      <th>relationships</th>\n",
       "      <th>created_by</th>\n",
       "      <th>created_at</th>\n",
       "      <th>updated_at</th>\n",
       "      <th>lat</th>\n",
       "      <th>lng</th>\n",
       "      <th>ROI</th>\n",
       "    </tr>\n",
       "  </thead>\n",
       "  <tbody>\n",
       "    <tr>\n",
       "      <th>0</th>\n",
       "      <td>c:1</td>\n",
       "      <td>0</td>\n",
       "      <td>Company</td>\n",
       "      <td>1</td>\n",
       "      <td>NaN</td>\n",
       "      <td>Wetpaint</td>\n",
       "      <td>wetpaint</td>\n",
       "      <td>/company/wetpaint</td>\n",
       "      <td>web</td>\n",
       "      <td>operating</td>\n",
       "      <td>2005-10-17</td>\n",
       "      <td>NaN</td>\n",
       "      <td>wetpaint-inc.com</td>\n",
       "      <td>http://wetpaint-inc.com</td>\n",
       "      <td>BachelrWetpaint</td>\n",
       "      <td>http://s3.amazonaws.com/crunchbase_prod_assets...</td>\n",
       "      <td>401.0</td>\n",
       "      <td>54.0</td>\n",
       "      <td>NaN</td>\n",
       "      <td>Technology Platform Company</td>\n",
       "      <td>Wetpaint is a technology platform company that...</td>\n",
       "      <td>wiki, seattle, elowitz, media-industry, media-...</td>\n",
       "      <td>USA</td>\n",
       "      <td>WA</td>\n",
       "      <td>Seattle</td>\n",
       "      <td>Seattle</td>\n",
       "      <td>NaN</td>\n",
       "      <td>NaN</td>\n",
       "      <td>NaN</td>\n",
       "      <td>NaN</td>\n",
       "      <td>2005-10-01</td>\n",
       "      <td>2008-05-19</td>\n",
       "      <td>3.0</td>\n",
       "      <td>39750000.0</td>\n",
       "      <td>2010-09-05</td>\n",
       "      <td>2013-09-18</td>\n",
       "      <td>5.0</td>\n",
       "      <td>17.0</td>\n",
       "      <td>initial-importer</td>\n",
       "      <td>2007-05-25 06:51:27</td>\n",
       "      <td>2013-04-13 03:29:00</td>\n",
       "      <td>47.606209</td>\n",
       "      <td>-122.332071</td>\n",
       "      <td>15.5</td>\n",
       "    </tr>\n",
       "    <tr>\n",
       "      <th>1</th>\n",
       "      <td>c:10</td>\n",
       "      <td>1</td>\n",
       "      <td>Company</td>\n",
       "      <td>10</td>\n",
       "      <td>NaN</td>\n",
       "      <td>Flektor</td>\n",
       "      <td>flektor</td>\n",
       "      <td>/company/flektor</td>\n",
       "      <td>games_video</td>\n",
       "      <td>acquired</td>\n",
       "      <td>NaN</td>\n",
       "      <td>NaN</td>\n",
       "      <td>flektor.com</td>\n",
       "      <td>http://www.flektor.com</td>\n",
       "      <td>NaN</td>\n",
       "      <td>http://s3.amazonaws.com/crunchbase_prod_assets...</td>\n",
       "      <td>186.0</td>\n",
       "      <td>85.0</td>\n",
       "      <td>NaN</td>\n",
       "      <td>NaN</td>\n",
       "      <td>Flektor is a rich-media mash-up platform that ...</td>\n",
       "      <td>flektor, photo, video</td>\n",
       "      <td>USA</td>\n",
       "      <td>CA</td>\n",
       "      <td>Culver City</td>\n",
       "      <td>Los Angeles</td>\n",
       "      <td>NaN</td>\n",
       "      <td>NaN</td>\n",
       "      <td>NaN</td>\n",
       "      <td>NaN</td>\n",
       "      <td>NaN</td>\n",
       "      <td>NaN</td>\n",
       "      <td>NaN</td>\n",
       "      <td>NaN</td>\n",
       "      <td>NaN</td>\n",
       "      <td>NaN</td>\n",
       "      <td>NaN</td>\n",
       "      <td>6.0</td>\n",
       "      <td>initial-importer</td>\n",
       "      <td>2007-05-31 21:11:51</td>\n",
       "      <td>2008-05-23 23:23:14</td>\n",
       "      <td>34.021122</td>\n",
       "      <td>-118.396467</td>\n",
       "      <td>NaN</td>\n",
       "    </tr>\n",
       "    <tr>\n",
       "      <th>2</th>\n",
       "      <td>c:100</td>\n",
       "      <td>2</td>\n",
       "      <td>Company</td>\n",
       "      <td>100</td>\n",
       "      <td>NaN</td>\n",
       "      <td>There</td>\n",
       "      <td>there</td>\n",
       "      <td>/company/there</td>\n",
       "      <td>games_video</td>\n",
       "      <td>acquired</td>\n",
       "      <td>NaN</td>\n",
       "      <td>NaN</td>\n",
       "      <td>there.com</td>\n",
       "      <td>http://www.there.com</td>\n",
       "      <td>NaN</td>\n",
       "      <td>http://s3.amazonaws.com/crunchbase_prod_assets...</td>\n",
       "      <td>107.0</td>\n",
       "      <td>34.0</td>\n",
       "      <td>NaN</td>\n",
       "      <td>NaN</td>\n",
       "      <td>There.com is an online virtual world where any...</td>\n",
       "      <td>virtualworld, there, teens</td>\n",
       "      <td>USA</td>\n",
       "      <td>CA</td>\n",
       "      <td>San Mateo</td>\n",
       "      <td>SF Bay</td>\n",
       "      <td>NaN</td>\n",
       "      <td>NaN</td>\n",
       "      <td>NaN</td>\n",
       "      <td>NaN</td>\n",
       "      <td>NaN</td>\n",
       "      <td>NaN</td>\n",
       "      <td>NaN</td>\n",
       "      <td>NaN</td>\n",
       "      <td>2003-02-01</td>\n",
       "      <td>2011-09-23</td>\n",
       "      <td>4.0</td>\n",
       "      <td>12.0</td>\n",
       "      <td>initial-importer</td>\n",
       "      <td>2007-08-06 23:52:45</td>\n",
       "      <td>2013-11-04 02:09:48</td>\n",
       "      <td>37.562992</td>\n",
       "      <td>-122.325525</td>\n",
       "      <td>NaN</td>\n",
       "    </tr>\n",
       "    <tr>\n",
       "      <th>3</th>\n",
       "      <td>c:10000</td>\n",
       "      <td>3</td>\n",
       "      <td>Company</td>\n",
       "      <td>10000</td>\n",
       "      <td>NaN</td>\n",
       "      <td>MYWEBBO</td>\n",
       "      <td>mywebbo</td>\n",
       "      <td>/company/mywebbo</td>\n",
       "      <td>network_hosting</td>\n",
       "      <td>operating</td>\n",
       "      <td>2008-07-26</td>\n",
       "      <td>NaN</td>\n",
       "      <td>mywebbo.com</td>\n",
       "      <td>http://www.mywebbo.com</td>\n",
       "      <td>NaN</td>\n",
       "      <td>NaN</td>\n",
       "      <td>NaN</td>\n",
       "      <td>NaN</td>\n",
       "      <td>NaN</td>\n",
       "      <td>NaN</td>\n",
       "      <td>BRAND NEW ONLINE SOCIAL NETWORKING WEBSITE,FOR...</td>\n",
       "      <td>social-network, new, website, web, friends, ch...</td>\n",
       "      <td>NaN</td>\n",
       "      <td>NaN</td>\n",
       "      <td>NaN</td>\n",
       "      <td>unknown</td>\n",
       "      <td>NaN</td>\n",
       "      <td>NaN</td>\n",
       "      <td>NaN</td>\n",
       "      <td>NaN</td>\n",
       "      <td>NaN</td>\n",
       "      <td>NaN</td>\n",
       "      <td>NaN</td>\n",
       "      <td>NaN</td>\n",
       "      <td>NaN</td>\n",
       "      <td>NaN</td>\n",
       "      <td>NaN</td>\n",
       "      <td>NaN</td>\n",
       "      <td>NaN</td>\n",
       "      <td>2008-08-24 16:51:57</td>\n",
       "      <td>2008-09-06 14:19:18</td>\n",
       "      <td>NaN</td>\n",
       "      <td>NaN</td>\n",
       "      <td>NaN</td>\n",
       "    </tr>\n",
       "    <tr>\n",
       "      <th>4</th>\n",
       "      <td>c:10001</td>\n",
       "      <td>4</td>\n",
       "      <td>Company</td>\n",
       "      <td>10001</td>\n",
       "      <td>NaN</td>\n",
       "      <td>THE Movie Streamer</td>\n",
       "      <td>the movie streamer</td>\n",
       "      <td>/company/the-movie-streamer</td>\n",
       "      <td>games_video</td>\n",
       "      <td>operating</td>\n",
       "      <td>2008-07-26</td>\n",
       "      <td>NaN</td>\n",
       "      <td>themoviestreamer.com</td>\n",
       "      <td>http://themoviestreamer.com</td>\n",
       "      <td>NaN</td>\n",
       "      <td>http://s3.amazonaws.com/crunchbase_prod_assets...</td>\n",
       "      <td>200.0</td>\n",
       "      <td>74.0</td>\n",
       "      <td>NaN</td>\n",
       "      <td>NaN</td>\n",
       "      <td>This company shows free movies online on their...</td>\n",
       "      <td>watch, full-length, moives, online, for, free,...</td>\n",
       "      <td>NaN</td>\n",
       "      <td>NaN</td>\n",
       "      <td>NaN</td>\n",
       "      <td>unknown</td>\n",
       "      <td>NaN</td>\n",
       "      <td>NaN</td>\n",
       "      <td>NaN</td>\n",
       "      <td>NaN</td>\n",
       "      <td>NaN</td>\n",
       "      <td>NaN</td>\n",
       "      <td>NaN</td>\n",
       "      <td>NaN</td>\n",
       "      <td>NaN</td>\n",
       "      <td>NaN</td>\n",
       "      <td>NaN</td>\n",
       "      <td>NaN</td>\n",
       "      <td>NaN</td>\n",
       "      <td>2008-08-24 17:10:34</td>\n",
       "      <td>2008-09-06 14:19:18</td>\n",
       "      <td>NaN</td>\n",
       "      <td>NaN</td>\n",
       "      <td>NaN</td>\n",
       "    </tr>\n",
       "  </tbody>\n",
       "</table>\n",
       "</div>"
      ],
      "text/plain": [
       "        id  Unnamed: 0.1 entity_type  entity_id  parent_id  \\\n",
       "0      c:1             0     Company          1        NaN   \n",
       "1     c:10             1     Company         10        NaN   \n",
       "2    c:100             2     Company        100        NaN   \n",
       "3  c:10000             3     Company      10000        NaN   \n",
       "4  c:10001             4     Company      10001        NaN   \n",
       "\n",
       "                 name     normalized_name                    permalink  \\\n",
       "0            Wetpaint            wetpaint            /company/wetpaint   \n",
       "1             Flektor             flektor             /company/flektor   \n",
       "2               There               there               /company/there   \n",
       "3             MYWEBBO             mywebbo             /company/mywebbo   \n",
       "4  THE Movie Streamer  the movie streamer  /company/the-movie-streamer   \n",
       "\n",
       "     category_code     status  founded_at closed_at                domain  \\\n",
       "0              web  operating  2005-10-17       NaN      wetpaint-inc.com   \n",
       "1      games_video   acquired         NaN       NaN           flektor.com   \n",
       "2      games_video   acquired         NaN       NaN             there.com   \n",
       "3  network_hosting  operating  2008-07-26       NaN           mywebbo.com   \n",
       "4      games_video  operating  2008-07-26       NaN  themoviestreamer.com   \n",
       "\n",
       "                  homepage_url twitter_username  \\\n",
       "0      http://wetpaint-inc.com  BachelrWetpaint   \n",
       "1       http://www.flektor.com              NaN   \n",
       "2         http://www.there.com              NaN   \n",
       "3       http://www.mywebbo.com              NaN   \n",
       "4  http://themoviestreamer.com              NaN   \n",
       "\n",
       "                                            logo_url  logo_width  logo_height  \\\n",
       "0  http://s3.amazonaws.com/crunchbase_prod_assets...       401.0         54.0   \n",
       "1  http://s3.amazonaws.com/crunchbase_prod_assets...       186.0         85.0   \n",
       "2  http://s3.amazonaws.com/crunchbase_prod_assets...       107.0         34.0   \n",
       "3                                                NaN         NaN          NaN   \n",
       "4  http://s3.amazonaws.com/crunchbase_prod_assets...       200.0         74.0   \n",
       "\n",
       "  short_description                  description  \\\n",
       "0               NaN  Technology Platform Company   \n",
       "1               NaN                          NaN   \n",
       "2               NaN                          NaN   \n",
       "3               NaN                          NaN   \n",
       "4               NaN                          NaN   \n",
       "\n",
       "                                            overview  \\\n",
       "0  Wetpaint is a technology platform company that...   \n",
       "1  Flektor is a rich-media mash-up platform that ...   \n",
       "2  There.com is an online virtual world where any...   \n",
       "3  BRAND NEW ONLINE SOCIAL NETWORKING WEBSITE,FOR...   \n",
       "4  This company shows free movies online on their...   \n",
       "\n",
       "                                            tag_list country_code state_code  \\\n",
       "0  wiki, seattle, elowitz, media-industry, media-...          USA         WA   \n",
       "1                              flektor, photo, video          USA         CA   \n",
       "2                         virtualworld, there, teens          USA         CA   \n",
       "3  social-network, new, website, web, friends, ch...          NaN        NaN   \n",
       "4  watch, full-length, moives, online, for, free,...          NaN        NaN   \n",
       "\n",
       "          city       region first_investment_at last_investment_at  \\\n",
       "0      Seattle      Seattle                 NaN                NaN   \n",
       "1  Culver City  Los Angeles                 NaN                NaN   \n",
       "2    San Mateo       SF Bay                 NaN                NaN   \n",
       "3          NaN      unknown                 NaN                NaN   \n",
       "4          NaN      unknown                 NaN                NaN   \n",
       "\n",
       "   investment_rounds  invested_companies first_funding_at last_funding_at  \\\n",
       "0                NaN                 NaN       2005-10-01      2008-05-19   \n",
       "1                NaN                 NaN              NaN             NaN   \n",
       "2                NaN                 NaN              NaN             NaN   \n",
       "3                NaN                 NaN              NaN             NaN   \n",
       "4                NaN                 NaN              NaN             NaN   \n",
       "\n",
       "   funding_rounds  funding_total_usd first_milestone_at last_milestone_at  \\\n",
       "0             3.0         39750000.0         2010-09-05        2013-09-18   \n",
       "1             NaN                NaN                NaN               NaN   \n",
       "2             NaN                NaN         2003-02-01        2011-09-23   \n",
       "3             NaN                NaN                NaN               NaN   \n",
       "4             NaN                NaN                NaN               NaN   \n",
       "\n",
       "   milestones  relationships        created_by           created_at  \\\n",
       "0         5.0           17.0  initial-importer  2007-05-25 06:51:27   \n",
       "1         NaN            6.0  initial-importer  2007-05-31 21:11:51   \n",
       "2         4.0           12.0  initial-importer  2007-08-06 23:52:45   \n",
       "3         NaN            NaN               NaN  2008-08-24 16:51:57   \n",
       "4         NaN            NaN               NaN  2008-08-24 17:10:34   \n",
       "\n",
       "            updated_at        lat         lng   ROI  \n",
       "0  2013-04-13 03:29:00  47.606209 -122.332071  15.5  \n",
       "1  2008-05-23 23:23:14  34.021122 -118.396467   NaN  \n",
       "2  2013-11-04 02:09:48  37.562992 -122.325525   NaN  \n",
       "3  2008-09-06 14:19:18        NaN         NaN   NaN  \n",
       "4  2008-09-06 14:19:18        NaN         NaN   NaN  "
      ]
     },
     "execution_count": 2,
     "metadata": {},
     "output_type": "execute_result"
    }
   ],
   "source": [
    "df=pd.read_csv('Data/companies.csv')\n",
    "df.head()"
   ]
  },
  {
   "cell_type": "markdown",
   "id": "db2e51bc",
   "metadata": {
    "id": "db2e51bc"
   },
   "source": [
    "<h2 style=\"color:blue; background:lightgreen;line-height:2; text-align:center\">Understanding Our Data 👁📰"
   ]
  },
  {
   "cell_type": "code",
   "execution_count": null,
   "id": "1e2d7121",
   "metadata": {
    "id": "1e2d7121",
    "outputId": "1cbb1f15-2670-47ce-f50c-51a373a555e5",
    "scrolled": true
   },
   "outputs": [
    {
     "data": {
      "text/plain": [
       "(196553, 44)"
      ]
     },
     "execution_count": 3,
     "metadata": {},
     "output_type": "execute_result"
    }
   ],
   "source": [
    "df.shape"
   ]
  },
  {
   "cell_type": "code",
   "execution_count": null,
   "id": "a74ab7b6",
   "metadata": {
    "id": "a74ab7b6",
    "outputId": "f89afc4c-fb3e-4bdc-e468-9275d61b50da"
   },
   "outputs": [
    {
     "data": {
      "text/plain": [
       "8648332"
      ]
     },
     "execution_count": 4,
     "metadata": {},
     "output_type": "execute_result"
    }
   ],
   "source": [
    "df.size"
   ]
  },
  {
   "cell_type": "code",
   "execution_count": null,
   "id": "fb38c2d4",
   "metadata": {
    "id": "fb38c2d4",
    "outputId": "7dcc4911-5a92-485d-91e9-590e340aaefe"
   },
   "outputs": [
    {
     "data": {
      "text/plain": [
       "Index(['id', 'Unnamed: 0.1', 'entity_type', 'entity_id', 'parent_id', 'name',\n",
       "       'normalized_name', 'permalink', 'category_code', 'status', 'founded_at',\n",
       "       'closed_at', 'domain', 'homepage_url', 'twitter_username', 'logo_url',\n",
       "       'logo_width', 'logo_height', 'short_description', 'description',\n",
       "       'overview', 'tag_list', 'country_code', 'state_code', 'city', 'region',\n",
       "       'first_investment_at', 'last_investment_at', 'investment_rounds',\n",
       "       'invested_companies', 'first_funding_at', 'last_funding_at',\n",
       "       'funding_rounds', 'funding_total_usd', 'first_milestone_at',\n",
       "       'last_milestone_at', 'milestones', 'relationships', 'created_by',\n",
       "       'created_at', 'updated_at', 'lat', 'lng', 'ROI'],\n",
       "      dtype='object')"
      ]
     },
     "execution_count": 5,
     "metadata": {},
     "output_type": "execute_result"
    }
   ],
   "source": [
    "df.columns"
   ]
  },
  {
   "cell_type": "code",
   "execution_count": null,
   "id": "15cccb7a",
   "metadata": {
    "id": "15cccb7a",
    "outputId": "11b6a688-1e3b-429b-c6d4-eaddc1865c4f"
   },
   "outputs": [
    {
     "name": "stdout",
     "output_type": "stream",
     "text": [
      "<class 'pandas.core.frame.DataFrame'>\n",
      "RangeIndex: 196553 entries, 0 to 196552\n",
      "Data columns (total 44 columns):\n",
      " #   Column               Non-Null Count   Dtype  \n",
      "---  ------               --------------   -----  \n",
      " 0   id                   196553 non-null  object \n",
      " 1   Unnamed: 0.1         196553 non-null  int64  \n",
      " 2   entity_type          196553 non-null  object \n",
      " 3   entity_id            196553 non-null  int64  \n",
      " 4   parent_id            0 non-null       float64\n",
      " 5   name                 196531 non-null  object \n",
      " 6   normalized_name      196527 non-null  object \n",
      " 7   permalink            196553 non-null  object \n",
      " 8   category_code        123186 non-null  object \n",
      " 9   status               196553 non-null  object \n",
      " 10  founded_at           91227 non-null   object \n",
      " 11  closed_at            2620 non-null    object \n",
      " 12  domain               126545 non-null  object \n",
      " 13  homepage_url         126545 non-null  object \n",
      " 14  twitter_username     80591 non-null   object \n",
      " 15  logo_url             110110 non-null  object \n",
      " 16  logo_width           110110 non-null  float64\n",
      " 17  logo_height          110110 non-null  float64\n",
      " 18  short_description    7131 non-null    object \n",
      " 19  description          92048 non-null   object \n",
      " 20  overview             126971 non-null  object \n",
      " 21  tag_list             81452 non-null   object \n",
      " 22  country_code         87990 non-null   object \n",
      " 23  state_code           50903 non-null   object \n",
      " 24  city                 83890 non-null   object \n",
      " 25  region               196553 non-null  object \n",
      " 26  first_investment_at  2583 non-null    object \n",
      " 27  last_investment_at   2583 non-null    object \n",
      " 28  investment_rounds    2591 non-null    float64\n",
      " 29  invested_companies   2591 non-null    float64\n",
      " 30  first_funding_at     31507 non-null   object \n",
      " 31  last_funding_at      31507 non-null   object \n",
      " 32  funding_rounds       31707 non-null   float64\n",
      " 33  funding_total_usd    27874 non-null   float64\n",
      " 34  first_milestone_at   91699 non-null   object \n",
      " 35  last_milestone_at    91699 non-null   object \n",
      " 36  milestones           91699 non-null   float64\n",
      " 37  relationships        129667 non-null  float64\n",
      " 38  created_by           155533 non-null  object \n",
      " 39  created_at           196553 non-null  object \n",
      " 40  updated_at           196553 non-null  object \n",
      " 41  lat                  83852 non-null   float64\n",
      " 42  lng                  83852 non-null   float64\n",
      " 43  ROI                  726 non-null     float64\n",
      "dtypes: float64(12), int64(2), object(30)\n",
      "memory usage: 66.0+ MB\n"
     ]
    }
   ],
   "source": [
    "df.info()"
   ]
  },
  {
   "cell_type": "markdown",
   "id": "87f59636",
   "metadata": {
    "id": "87f59636"
   },
   "source": [
    "### Descriptive statistics"
   ]
  },
  {
   "cell_type": "code",
   "execution_count": null,
   "id": "3aa008f3",
   "metadata": {
    "id": "3aa008f3",
    "outputId": "b5c2fa8a-6f30-4567-c55a-f7d31a3348a2"
   },
   "outputs": [
    {
     "data": {
      "text/html": [
       "<div>\n",
       "<style scoped>\n",
       "    .dataframe tbody tr th:only-of-type {\n",
       "        vertical-align: middle;\n",
       "    }\n",
       "\n",
       "    .dataframe tbody tr th {\n",
       "        vertical-align: top;\n",
       "    }\n",
       "\n",
       "    .dataframe thead th {\n",
       "        text-align: right;\n",
       "    }\n",
       "</style>\n",
       "<table border=\"1\" class=\"dataframe\">\n",
       "  <thead>\n",
       "    <tr style=\"text-align: right;\">\n",
       "      <th></th>\n",
       "      <th>count</th>\n",
       "      <th>mean</th>\n",
       "      <th>std</th>\n",
       "      <th>min</th>\n",
       "      <th>25%</th>\n",
       "      <th>50%</th>\n",
       "      <th>75%</th>\n",
       "      <th>max</th>\n",
       "    </tr>\n",
       "  </thead>\n",
       "  <tbody>\n",
       "    <tr>\n",
       "      <th>Unnamed: 0.1</th>\n",
       "      <td>196553.0</td>\n",
       "      <td>98276.00</td>\n",
       "      <td>56740.11</td>\n",
       "      <td>0.00</td>\n",
       "      <td>49138.00</td>\n",
       "      <td>98276.00</td>\n",
       "      <td>147414.00</td>\n",
       "      <td>1.965520e+05</td>\n",
       "    </tr>\n",
       "    <tr>\n",
       "      <th>entity_id</th>\n",
       "      <td>196553.0</td>\n",
       "      <td>153006.23</td>\n",
       "      <td>90209.25</td>\n",
       "      <td>1.00</td>\n",
       "      <td>59850.00</td>\n",
       "      <td>174539.00</td>\n",
       "      <td>232655.00</td>\n",
       "      <td>2.862150e+05</td>\n",
       "    </tr>\n",
       "    <tr>\n",
       "      <th>parent_id</th>\n",
       "      <td>0.0</td>\n",
       "      <td>NaN</td>\n",
       "      <td>NaN</td>\n",
       "      <td>NaN</td>\n",
       "      <td>NaN</td>\n",
       "      <td>NaN</td>\n",
       "      <td>NaN</td>\n",
       "      <td>NaN</td>\n",
       "    </tr>\n",
       "    <tr>\n",
       "      <th>logo_width</th>\n",
       "      <td>110110.0</td>\n",
       "      <td>459.13</td>\n",
       "      <td>594.98</td>\n",
       "      <td>1.00</td>\n",
       "      <td>192.00</td>\n",
       "      <td>267.00</td>\n",
       "      <td>484.00</td>\n",
       "      <td>1.820000e+04</td>\n",
       "    </tr>\n",
       "    <tr>\n",
       "      <th>logo_height</th>\n",
       "      <td>110110.0</td>\n",
       "      <td>222.73</td>\n",
       "      <td>333.09</td>\n",
       "      <td>1.00</td>\n",
       "      <td>70.00</td>\n",
       "      <td>105.00</td>\n",
       "      <td>232.00</td>\n",
       "      <td>9.600000e+03</td>\n",
       "    </tr>\n",
       "    <tr>\n",
       "      <th>investment_rounds</th>\n",
       "      <td>2591.0</td>\n",
       "      <td>2.37</td>\n",
       "      <td>12.17</td>\n",
       "      <td>1.00</td>\n",
       "      <td>1.00</td>\n",
       "      <td>1.00</td>\n",
       "      <td>1.00</td>\n",
       "      <td>4.780000e+02</td>\n",
       "    </tr>\n",
       "    <tr>\n",
       "      <th>invested_companies</th>\n",
       "      <td>2591.0</td>\n",
       "      <td>2.20</td>\n",
       "      <td>11.44</td>\n",
       "      <td>1.00</td>\n",
       "      <td>1.00</td>\n",
       "      <td>1.00</td>\n",
       "      <td>1.00</td>\n",
       "      <td>4.590000e+02</td>\n",
       "    </tr>\n",
       "    <tr>\n",
       "      <th>funding_rounds</th>\n",
       "      <td>31707.0</td>\n",
       "      <td>1.66</td>\n",
       "      <td>1.20</td>\n",
       "      <td>1.00</td>\n",
       "      <td>1.00</td>\n",
       "      <td>1.00</td>\n",
       "      <td>2.00</td>\n",
       "      <td>1.500000e+01</td>\n",
       "    </tr>\n",
       "    <tr>\n",
       "      <th>funding_total_usd</th>\n",
       "      <td>27874.0</td>\n",
       "      <td>14816520.42</td>\n",
       "      <td>67759366.56</td>\n",
       "      <td>291.00</td>\n",
       "      <td>500000.00</td>\n",
       "      <td>2564500.00</td>\n",
       "      <td>11000000.00</td>\n",
       "      <td>5.700000e+09</td>\n",
       "    </tr>\n",
       "    <tr>\n",
       "      <th>milestones</th>\n",
       "      <td>91699.0</td>\n",
       "      <td>1.20</td>\n",
       "      <td>0.54</td>\n",
       "      <td>1.00</td>\n",
       "      <td>1.00</td>\n",
       "      <td>1.00</td>\n",
       "      <td>1.00</td>\n",
       "      <td>9.000000e+00</td>\n",
       "    </tr>\n",
       "    <tr>\n",
       "      <th>relationships</th>\n",
       "      <td>129667.0</td>\n",
       "      <td>2.85</td>\n",
       "      <td>9.10</td>\n",
       "      <td>1.00</td>\n",
       "      <td>1.00</td>\n",
       "      <td>1.00</td>\n",
       "      <td>3.00</td>\n",
       "      <td>1.189000e+03</td>\n",
       "    </tr>\n",
       "    <tr>\n",
       "      <th>lat</th>\n",
       "      <td>83852.0</td>\n",
       "      <td>37.56</td>\n",
       "      <td>15.48</td>\n",
       "      <td>-50.94</td>\n",
       "      <td>34.05</td>\n",
       "      <td>39.77</td>\n",
       "      <td>45.42</td>\n",
       "      <td>7.755000e+01</td>\n",
       "    </tr>\n",
       "    <tr>\n",
       "      <th>lng</th>\n",
       "      <td>83852.0</td>\n",
       "      <td>-52.12</td>\n",
       "      <td>70.05</td>\n",
       "      <td>-159.50</td>\n",
       "      <td>-111.94</td>\n",
       "      <td>-77.04</td>\n",
       "      <td>-0.13</td>\n",
       "      <td>1.762100e+02</td>\n",
       "    </tr>\n",
       "    <tr>\n",
       "      <th>ROI</th>\n",
       "      <td>726.0</td>\n",
       "      <td>45.75</td>\n",
       "      <td>572.04</td>\n",
       "      <td>0.01</td>\n",
       "      <td>2.65</td>\n",
       "      <td>6.50</td>\n",
       "      <td>13.55</td>\n",
       "      <td>1.333333e+04</td>\n",
       "    </tr>\n",
       "  </tbody>\n",
       "</table>\n",
       "</div>"
      ],
      "text/plain": [
       "                       count         mean          std     min        25%  \\\n",
       "Unnamed: 0.1        196553.0     98276.00     56740.11    0.00   49138.00   \n",
       "entity_id           196553.0    153006.23     90209.25    1.00   59850.00   \n",
       "parent_id                0.0          NaN          NaN     NaN        NaN   \n",
       "logo_width          110110.0       459.13       594.98    1.00     192.00   \n",
       "logo_height         110110.0       222.73       333.09    1.00      70.00   \n",
       "investment_rounds     2591.0         2.37        12.17    1.00       1.00   \n",
       "invested_companies    2591.0         2.20        11.44    1.00       1.00   \n",
       "funding_rounds       31707.0         1.66         1.20    1.00       1.00   \n",
       "funding_total_usd    27874.0  14816520.42  67759366.56  291.00  500000.00   \n",
       "milestones           91699.0         1.20         0.54    1.00       1.00   \n",
       "relationships       129667.0         2.85         9.10    1.00       1.00   \n",
       "lat                  83852.0        37.56        15.48  -50.94      34.05   \n",
       "lng                  83852.0       -52.12        70.05 -159.50    -111.94   \n",
       "ROI                    726.0        45.75       572.04    0.01       2.65   \n",
       "\n",
       "                           50%          75%           max  \n",
       "Unnamed: 0.1          98276.00    147414.00  1.965520e+05  \n",
       "entity_id            174539.00    232655.00  2.862150e+05  \n",
       "parent_id                  NaN          NaN           NaN  \n",
       "logo_width              267.00       484.00  1.820000e+04  \n",
       "logo_height             105.00       232.00  9.600000e+03  \n",
       "investment_rounds         1.00         1.00  4.780000e+02  \n",
       "invested_companies        1.00         1.00  4.590000e+02  \n",
       "funding_rounds            1.00         2.00  1.500000e+01  \n",
       "funding_total_usd   2564500.00  11000000.00  5.700000e+09  \n",
       "milestones                1.00         1.00  9.000000e+00  \n",
       "relationships             1.00         3.00  1.189000e+03  \n",
       "lat                      39.77        45.42  7.755000e+01  \n",
       "lng                     -77.04        -0.13  1.762100e+02  \n",
       "ROI                       6.50        13.55  1.333333e+04  "
      ]
     },
     "execution_count": 7,
     "metadata": {},
     "output_type": "execute_result"
    }
   ],
   "source": [
    "df.describe().T.round(2)"
   ]
  },
  {
   "cell_type": "code",
   "execution_count": null,
   "id": "c89408ee",
   "metadata": {
    "id": "c89408ee",
    "outputId": "96686d9b-6268-4d6b-e5f8-b589ae76634d"
   },
   "outputs": [
    {
     "data": {
      "text/html": [
       "<div>\n",
       "<style scoped>\n",
       "    .dataframe tbody tr th:only-of-type {\n",
       "        vertical-align: middle;\n",
       "    }\n",
       "\n",
       "    .dataframe tbody tr th {\n",
       "        vertical-align: top;\n",
       "    }\n",
       "\n",
       "    .dataframe thead th {\n",
       "        text-align: right;\n",
       "    }\n",
       "</style>\n",
       "<table border=\"1\" class=\"dataframe\">\n",
       "  <thead>\n",
       "    <tr style=\"text-align: right;\">\n",
       "      <th></th>\n",
       "      <th>count</th>\n",
       "      <th>unique</th>\n",
       "      <th>top</th>\n",
       "      <th>freq</th>\n",
       "    </tr>\n",
       "  </thead>\n",
       "  <tbody>\n",
       "    <tr>\n",
       "      <th>id</th>\n",
       "      <td>196553</td>\n",
       "      <td>196553</td>\n",
       "      <td>c:1</td>\n",
       "      <td>1</td>\n",
       "    </tr>\n",
       "    <tr>\n",
       "      <th>entity_type</th>\n",
       "      <td>196553</td>\n",
       "      <td>1</td>\n",
       "      <td>Company</td>\n",
       "      <td>196553</td>\n",
       "    </tr>\n",
       "    <tr>\n",
       "      <th>name</th>\n",
       "      <td>196531</td>\n",
       "      <td>196348</td>\n",
       "      <td>L</td>\n",
       "      <td>8</td>\n",
       "    </tr>\n",
       "    <tr>\n",
       "      <th>normalized_name</th>\n",
       "      <td>196527</td>\n",
       "      <td>195451</td>\n",
       "      <td>l</td>\n",
       "      <td>9</td>\n",
       "    </tr>\n",
       "    <tr>\n",
       "      <th>permalink</th>\n",
       "      <td>196553</td>\n",
       "      <td>196512</td>\n",
       "      <td>/company/bboescape</td>\n",
       "      <td>3</td>\n",
       "    </tr>\n",
       "    <tr>\n",
       "      <th>category_code</th>\n",
       "      <td>123186</td>\n",
       "      <td>42</td>\n",
       "      <td>software</td>\n",
       "      <td>17922</td>\n",
       "    </tr>\n",
       "    <tr>\n",
       "      <th>status</th>\n",
       "      <td>196553</td>\n",
       "      <td>4</td>\n",
       "      <td>operating</td>\n",
       "      <td>183441</td>\n",
       "    </tr>\n",
       "    <tr>\n",
       "      <th>founded_at</th>\n",
       "      <td>91227</td>\n",
       "      <td>6156</td>\n",
       "      <td>2011-01-01</td>\n",
       "      <td>3748</td>\n",
       "    </tr>\n",
       "    <tr>\n",
       "      <th>closed_at</th>\n",
       "      <td>2620</td>\n",
       "      <td>925</td>\n",
       "      <td>2012-01-01</td>\n",
       "      <td>176</td>\n",
       "    </tr>\n",
       "    <tr>\n",
       "      <th>domain</th>\n",
       "      <td>126545</td>\n",
       "      <td>125498</td>\n",
       "      <td>placeshilton.com</td>\n",
       "      <td>44</td>\n",
       "    </tr>\n",
       "    <tr>\n",
       "      <th>homepage_url</th>\n",
       "      <td>126545</td>\n",
       "      <td>125961</td>\n",
       "      <td>http://www.dachisgroup.com</td>\n",
       "      <td>5</td>\n",
       "    </tr>\n",
       "    <tr>\n",
       "      <th>twitter_username</th>\n",
       "      <td>80591</td>\n",
       "      <td>79571</td>\n",
       "      <td>Goodman_UK</td>\n",
       "      <td>20</td>\n",
       "    </tr>\n",
       "    <tr>\n",
       "      <th>logo_url</th>\n",
       "      <td>110110</td>\n",
       "      <td>110110</td>\n",
       "      <td>http://s3.amazonaws.com/crunchbase_prod_assets...</td>\n",
       "      <td>1</td>\n",
       "    </tr>\n",
       "    <tr>\n",
       "      <th>short_description</th>\n",
       "      <td>7131</td>\n",
       "      <td>7126</td>\n",
       "      <td>L</td>\n",
       "      <td>3</td>\n",
       "    </tr>\n",
       "    <tr>\n",
       "      <th>description</th>\n",
       "      <td>92048</td>\n",
       "      <td>83696</td>\n",
       "      <td>Garage Door Repair/Replacement</td>\n",
       "      <td>144</td>\n",
       "    </tr>\n",
       "    <tr>\n",
       "      <th>overview</th>\n",
       "      <td>126971</td>\n",
       "      <td>126515</td>\n",
       "      <td>We</td>\n",
       "      <td>40</td>\n",
       "    </tr>\n",
       "    <tr>\n",
       "      <th>tag_list</th>\n",
       "      <td>81452</td>\n",
       "      <td>79133</td>\n",
       "      <td>garage-door-springs, broken-spring-repair--rep...</td>\n",
       "      <td>210</td>\n",
       "    </tr>\n",
       "    <tr>\n",
       "      <th>country_code</th>\n",
       "      <td>87990</td>\n",
       "      <td>175</td>\n",
       "      <td>USA</td>\n",
       "      <td>51637</td>\n",
       "    </tr>\n",
       "    <tr>\n",
       "      <th>state_code</th>\n",
       "      <td>50903</td>\n",
       "      <td>51</td>\n",
       "      <td>CA</td>\n",
       "      <td>16489</td>\n",
       "    </tr>\n",
       "    <tr>\n",
       "      <th>city</th>\n",
       "      <td>83890</td>\n",
       "      <td>10652</td>\n",
       "      <td>New York</td>\n",
       "      <td>3816</td>\n",
       "    </tr>\n",
       "    <tr>\n",
       "      <th>region</th>\n",
       "      <td>196553</td>\n",
       "      <td>5847</td>\n",
       "      <td>unknown</td>\n",
       "      <td>109866</td>\n",
       "    </tr>\n",
       "    <tr>\n",
       "      <th>first_investment_at</th>\n",
       "      <td>2583</td>\n",
       "      <td>1197</td>\n",
       "      <td>2009-01-01</td>\n",
       "      <td>33</td>\n",
       "    </tr>\n",
       "    <tr>\n",
       "      <th>last_investment_at</th>\n",
       "      <td>2583</td>\n",
       "      <td>1105</td>\n",
       "      <td>2012-01-01</td>\n",
       "      <td>33</td>\n",
       "    </tr>\n",
       "    <tr>\n",
       "      <th>first_funding_at</th>\n",
       "      <td>31507</td>\n",
       "      <td>3208</td>\n",
       "      <td>2008-01-01</td>\n",
       "      <td>343</td>\n",
       "    </tr>\n",
       "    <tr>\n",
       "      <th>last_funding_at</th>\n",
       "      <td>31507</td>\n",
       "      <td>2978</td>\n",
       "      <td>2012-01-01</td>\n",
       "      <td>272</td>\n",
       "    </tr>\n",
       "    <tr>\n",
       "      <th>first_milestone_at</th>\n",
       "      <td>91699</td>\n",
       "      <td>4080</td>\n",
       "      <td>2012-01-01</td>\n",
       "      <td>3152</td>\n",
       "    </tr>\n",
       "    <tr>\n",
       "      <th>last_milestone_at</th>\n",
       "      <td>91699</td>\n",
       "      <td>3966</td>\n",
       "      <td>2012-01-01</td>\n",
       "      <td>2937</td>\n",
       "    </tr>\n",
       "    <tr>\n",
       "      <th>created_by</th>\n",
       "      <td>155533</td>\n",
       "      <td>55329</td>\n",
       "      <td>dhawalarco</td>\n",
       "      <td>10005</td>\n",
       "    </tr>\n",
       "    <tr>\n",
       "      <th>created_at</th>\n",
       "      <td>196553</td>\n",
       "      <td>182851</td>\n",
       "      <td>2008-02-16 00:00:05</td>\n",
       "      <td>9</td>\n",
       "    </tr>\n",
       "    <tr>\n",
       "      <th>updated_at</th>\n",
       "      <td>196553</td>\n",
       "      <td>183558</td>\n",
       "      <td>2012-11-04 00:27:06</td>\n",
       "      <td>8</td>\n",
       "    </tr>\n",
       "  </tbody>\n",
       "</table>\n",
       "</div>"
      ],
      "text/plain": [
       "                      count  unique  \\\n",
       "id                   196553  196553   \n",
       "entity_type          196553       1   \n",
       "name                 196531  196348   \n",
       "normalized_name      196527  195451   \n",
       "permalink            196553  196512   \n",
       "category_code        123186      42   \n",
       "status               196553       4   \n",
       "founded_at            91227    6156   \n",
       "closed_at              2620     925   \n",
       "domain               126545  125498   \n",
       "homepage_url         126545  125961   \n",
       "twitter_username      80591   79571   \n",
       "logo_url             110110  110110   \n",
       "short_description      7131    7126   \n",
       "description           92048   83696   \n",
       "overview             126971  126515   \n",
       "tag_list              81452   79133   \n",
       "country_code          87990     175   \n",
       "state_code            50903      51   \n",
       "city                  83890   10652   \n",
       "region               196553    5847   \n",
       "first_investment_at    2583    1197   \n",
       "last_investment_at     2583    1105   \n",
       "first_funding_at      31507    3208   \n",
       "last_funding_at       31507    2978   \n",
       "first_milestone_at    91699    4080   \n",
       "last_milestone_at     91699    3966   \n",
       "created_by           155533   55329   \n",
       "created_at           196553  182851   \n",
       "updated_at           196553  183558   \n",
       "\n",
       "                                                                   top    freq  \n",
       "id                                                                 c:1       1  \n",
       "entity_type                                                    Company  196553  \n",
       "name                                                                 L       8  \n",
       "normalized_name                                                      l       9  \n",
       "permalink                                           /company/bboescape       3  \n",
       "category_code                                                 software   17922  \n",
       "status                                                       operating  183441  \n",
       "founded_at                                                  2011-01-01    3748  \n",
       "closed_at                                                   2012-01-01     176  \n",
       "domain                                                placeshilton.com      44  \n",
       "homepage_url                                http://www.dachisgroup.com       5  \n",
       "twitter_username                                            Goodman_UK      20  \n",
       "logo_url             http://s3.amazonaws.com/crunchbase_prod_assets...       1  \n",
       "short_description                                                    L       3  \n",
       "description                             Garage Door Repair/Replacement     144  \n",
       "overview                                                            We      40  \n",
       "tag_list             garage-door-springs, broken-spring-repair--rep...     210  \n",
       "country_code                                                       USA   51637  \n",
       "state_code                                                          CA   16489  \n",
       "city                                                          New York    3816  \n",
       "region                                                         unknown  109866  \n",
       "first_investment_at                                         2009-01-01      33  \n",
       "last_investment_at                                          2012-01-01      33  \n",
       "first_funding_at                                            2008-01-01     343  \n",
       "last_funding_at                                             2012-01-01     272  \n",
       "first_milestone_at                                          2012-01-01    3152  \n",
       "last_milestone_at                                           2012-01-01    2937  \n",
       "created_by                                                  dhawalarco   10005  \n",
       "created_at                                         2008-02-16 00:00:05       9  \n",
       "updated_at                                         2012-11-04 00:27:06       8  "
      ]
     },
     "execution_count": 8,
     "metadata": {},
     "output_type": "execute_result"
    }
   ],
   "source": [
    "df.describe(include='object').T"
   ]
  },
  {
   "cell_type": "markdown",
   "id": "09c33d06",
   "metadata": {
    "id": "09c33d06"
   },
   "source": [
    "### Duplicate Values"
   ]
  },
  {
   "cell_type": "code",
   "execution_count": null,
   "id": "37687355",
   "metadata": {
    "id": "37687355",
    "outputId": "bd404b7e-8d0c-430c-b2c9-08ae99b38726"
   },
   "outputs": [
    {
     "data": {
      "text/plain": [
       "0"
      ]
     },
     "execution_count": 9,
     "metadata": {},
     "output_type": "execute_result"
    }
   ],
   "source": [
    "df.duplicated().sum()"
   ]
  },
  {
   "cell_type": "markdown",
   "id": "e11e8ee7",
   "metadata": {
    "id": "e11e8ee7"
   },
   "source": [
    "### Missing value"
   ]
  },
  {
   "cell_type": "code",
   "execution_count": null,
   "id": "5cf74435",
   "metadata": {
    "id": "5cf74435",
    "outputId": "ed253ee6-90eb-4386-c2b4-2cb917db6a6e"
   },
   "outputs": [
    {
     "name": "stdout",
     "output_type": "stream",
     "text": [
      "Count of Missing values in each column\n",
      " id                          0\n",
      "Unnamed: 0.1                0\n",
      "entity_type                 0\n",
      "entity_id                   0\n",
      "parent_id              196553\n",
      "name                       22\n",
      "normalized_name            26\n",
      "permalink                   0\n",
      "category_code           73367\n",
      "status                      0\n",
      "founded_at             105326\n",
      "closed_at              193933\n",
      "domain                  70008\n",
      "homepage_url            70008\n",
      "twitter_username       115962\n",
      "logo_url                86443\n",
      "logo_width              86443\n",
      "logo_height             86443\n",
      "short_description      189422\n",
      "description            104505\n",
      "overview                69582\n",
      "tag_list               115101\n",
      "country_code           108563\n",
      "state_code             145650\n",
      "city                   112663\n",
      "region                      0\n",
      "first_investment_at    193970\n",
      "last_investment_at     193970\n",
      "investment_rounds      193962\n",
      "invested_companies     193962\n",
      "first_funding_at       165046\n",
      "last_funding_at        165046\n",
      "funding_rounds         164846\n",
      "funding_total_usd      168679\n",
      "first_milestone_at     104854\n",
      "last_milestone_at      104854\n",
      "milestones             104854\n",
      "relationships           66886\n",
      "created_by              41020\n",
      "created_at                  0\n",
      "updated_at                  0\n",
      "lat                    112701\n",
      "lng                    112701\n",
      "ROI                    195827\n",
      "dtype: int64\n",
      "\n",
      "\n",
      "Percentage of Missing values in each column\n",
      " id                       0.00\n",
      "Unnamed: 0.1             0.00\n",
      "entity_type              0.00\n",
      "entity_id                0.00\n",
      "parent_id              100.00\n",
      "name                     0.01\n",
      "normalized_name          0.01\n",
      "permalink                0.00\n",
      "category_code           37.33\n",
      "status                   0.00\n",
      "founded_at              53.59\n",
      "closed_at               98.67\n",
      "domain                  35.62\n",
      "homepage_url            35.62\n",
      "twitter_username        59.00\n",
      "logo_url                43.98\n",
      "logo_width              43.98\n",
      "logo_height             43.98\n",
      "short_description       96.37\n",
      "description             53.17\n",
      "overview                35.40\n",
      "tag_list                58.56\n",
      "country_code            55.23\n",
      "state_code              74.10\n",
      "city                    57.32\n",
      "region                   0.00\n",
      "first_investment_at     98.69\n",
      "last_investment_at      98.69\n",
      "investment_rounds       98.68\n",
      "invested_companies      98.68\n",
      "first_funding_at        83.97\n",
      "last_funding_at         83.97\n",
      "funding_rounds          83.87\n",
      "funding_total_usd       85.82\n",
      "first_milestone_at      53.35\n",
      "last_milestone_at       53.35\n",
      "milestones              53.35\n",
      "relationships           34.03\n",
      "created_by              20.87\n",
      "created_at               0.00\n",
      "updated_at               0.00\n",
      "lat                     57.34\n",
      "lng                     57.34\n",
      "ROI                     99.63\n",
      "dtype: float64\n"
     ]
    }
   ],
   "source": [
    "print(\"Count of Missing values in each column\\n\", df.isna().sum())\n",
    "print(\"\\n\")\n",
    "print(\"Percentage of Missing values in each column\\n\",round(df.isna().sum()/df.shape[0]*100, 2))"
   ]
  },
  {
   "cell_type": "markdown",
   "id": "924aa263",
   "metadata": {
    "id": "924aa263"
   },
   "source": [
    "<h2 style=\"color:red;\">Basic Observations: 🕵️‍♀️🕵️‍♀️</h2>\n",
    "<h4 style=\"color:coral; line-height:2\">1. Data set contains 1,96,553 rows and 44 columns.<br>\n",
    "    2. All date related columns are of object data type. We need to convert it to date type.<br>\n",
    "    3. Many columns in our dataset are not going to contribute in predicting the status of the company.<br>\n",
    "    4. Data set contains no duplicate rows.<br>\n",
    "    5. parent_id column in our dataset has 100% null values. Surely we are going to drop this.<br>\n",
    "    6. \"Status\" column is our target variable and it is free of null values.<br>\n",
    "    7. The variable \"investment_rounds\" has a mean of 2.37 with a wide standard deviation of 12.17, indicating significant variability in the number of investment rounds.<br>\n",
    "    8. The \"funding_total_usd\" variable has a mean of 1,48,16,520.42 and a large standard deviation of 6,77,59,366.56. This wide spread suggests a significant disparity in the funding amounts received by different entities, with some potentially securing very high amounts.<br>\n",
    "    9. The mean latitude is 37.56, and the mean longitude is -52.12. These values indicate a general location for most companies.<br>\n",
    "    10. The \"ROI\" variable has a mean of 45.75 and a large standard deviation of 572.04. This suggests that while the average ROI is positive, there is considerable variability, with some entities potentially achieving very high returns<br>\n",
    "    11. The \"milestones\" and \"relationships\" variables have relatively low Means, this means, on average entities have a small number of milestones and relationships. However, the wide standard deviations indicate variability in these aspects among different entities.<br>\n",
    "    12. The \"id\" column has 1,96,553 unique values, suggesting each entry has a distinct identifier.<br>\n",
    "    13. All entities in the dataset belong to a single entity type \"Company\".<br>\n",
    "    14. The \"name\" column has 1,96,530 entries, with 1,96,347 unique names. The most frequent name is \"L\" with a frequency of 8. This also suggest that we have duplicates rows.\n",
    "    15. The \"category_code\" column has 1,23,186 unique entries, with the most frequent category being \"software\" with a frequency of 17,922.<br>\n",
    "    16. The \"status\" column has 1,96,553 entries, with the most frequent status being \"operating\" with a frequency of 183,441.<br>\n",
    "    17. The \"closed_at\" column has 2,620 unique entries, with the most common closing date being \"2012-01-01\" with a frequency of 176.<br>\n",
    "    18. Various columns like \"first_investment_at,\" \"last_investment_at,\" \"first_funding_at,\" \"last_funding_at,\" \"first_milestone_at,\" and \"last_milestone_at\" contain date information indicating the timeframes of different activities.<br>\n",
    "    19. \"USA\" is the most common country code (51,637 times). For states, \"CA\" (California) leads with 16,489 occurrences out of 50,903. In cities, \"New York\" is the most frequent, appearing 3,816 times out of 83,890.<br>\n",
    "    20. The \"created_by\" column has 155,533 unique entries, with the most frequent creator being \"dhawalarco\" with a frequency of 10,005.</h4>"
   ]
  },
  {
   "cell_type": "markdown",
   "id": "e8ad1859",
   "metadata": {
    "id": "e8ad1859"
   },
   "source": [
    "<h2 style=\"color:blue; background:lightgreen;line-height:2; text-align:center;\">Data Cleaning 🔎🔧</h2>"
   ]
  },
  {
   "cell_type": "markdown",
   "id": "89f81e5e",
   "metadata": {
    "id": "89f81e5e"
   },
   "source": [
    "<h2 style=\"color:red; line-height:1.5\">1. Delete irrelevant & redundant information<br>\n",
    "    2. Remove noise or unreliable data (duplicate, missing values and outliers).</h2>"
   ]
  },
  {
   "cell_type": "markdown",
   "id": "466fbdca",
   "metadata": {
    "id": "466fbdca"
   },
   "source": [
    "<h3 style=\"color:red;\">1. Delete irrelevant & redundant information</h3>\n",
    "<h4 style=\"color:blue; line-height:1.7\">a. Delete 'region','city','state_code' as they provide too much of granularity.<br>\n",
    "    b. Delete 'id', 'Unnamed: 0.1', 'entity_type', 'entity_id', 'parent_id', 'created_by', 'created_at', 'updated_at' as they are redundant.<br>\n",
    "    c. Delete 'name', domain', 'homepage_url', 'twitter_username', 'logo_url', 'logo_width', 'logo_height', 'short_description', 'description', 'overview','tag_list', 'name', 'normalized_name', 'permalink' as they are irrelevant features.</h4>"
   ]
  },
  {
   "cell_type": "code",
   "execution_count": null,
   "id": "f0902e35",
   "metadata": {
    "id": "f0902e35",
    "outputId": "9216f6fb-ab28-4eb3-d816-dc13057573a9"
   },
   "outputs": [
    {
     "data": {
      "text/plain": [
       "Index(['category_code', 'status', 'founded_at', 'closed_at', 'country_code',\n",
       "       'first_investment_at', 'last_investment_at', 'investment_rounds',\n",
       "       'invested_companies', 'first_funding_at', 'last_funding_at',\n",
       "       'funding_rounds', 'funding_total_usd', 'first_milestone_at',\n",
       "       'last_milestone_at', 'milestones', 'relationships', 'lat', 'lng',\n",
       "       'ROI'],\n",
       "      dtype='object')"
      ]
     },
     "execution_count": 143,
     "metadata": {},
     "output_type": "execute_result"
    }
   ],
   "source": [
    "unwanted_col=['name', 'id', 'Unnamed: 0.1', 'entity_type', 'entity_id', 'parent_id', 'region','city','state_code',\n",
    "              'created_by', 'created_at', 'updated_at', 'normalized_name', 'permalink', 'domain','homepage_url',\n",
    "              'twitter_username', 'logo_url', 'logo_width', 'logo_height', 'short_description', 'description',\n",
    "              'overview', 'tag_list']\n",
    "\n",
    "df.drop(unwanted_col, axis=1, inplace=True)\n",
    "df.columns"
   ]
  },
  {
   "cell_type": "markdown",
   "id": "bafa7d12",
   "metadata": {
    "id": "bafa7d12"
   },
   "source": [
    "<h3 style=\"color:red; line-height:1.5\">2. Remove noise or unreliable data (duplicate entries, missing values and outliers).</h3>"
   ]
  },
  {
   "cell_type": "markdown",
   "id": "d6589e4e",
   "metadata": {
    "id": "d6589e4e"
   },
   "source": [
    "<h3 style=\"color:blue;\">2.1. Handling Duplicate Values</h3>"
   ]
  },
  {
   "cell_type": "code",
   "execution_count": null,
   "id": "a4f8995e",
   "metadata": {
    "id": "a4f8995e",
    "outputId": "a09b55f1-2c8a-4e1d-caa4-e0d7e170d12e"
   },
   "outputs": [
    {
     "data": {
      "text/plain": [
       "87089"
      ]
     },
     "execution_count": 78,
     "metadata": {},
     "output_type": "execute_result"
    }
   ],
   "source": [
    "df.duplicated().sum()"
   ]
  },
  {
   "cell_type": "code",
   "execution_count": null,
   "id": "a55aadc5",
   "metadata": {
    "id": "a55aadc5",
    "outputId": "7e3e5dc1-f0f7-4553-d570-05b40edabd2a"
   },
   "outputs": [
    {
     "data": {
      "text/plain": [
       "0"
      ]
     },
     "execution_count": 144,
     "metadata": {},
     "output_type": "execute_result"
    }
   ],
   "source": [
    "df.drop_duplicates(inplace=True)\n",
    "df.duplicated().sum()"
   ]
  },
  {
   "cell_type": "code",
   "execution_count": null,
   "id": "6fb430f8",
   "metadata": {
    "id": "6fb430f8",
    "outputId": "2d65f246-9ceb-4302-c31a-4889cdfd3533"
   },
   "outputs": [
    {
     "data": {
      "text/plain": [
       "(109464, 20)"
      ]
     },
     "execution_count": 80,
     "metadata": {},
     "output_type": "execute_result"
    }
   ],
   "source": [
    "df.shape"
   ]
  },
  {
   "cell_type": "markdown",
   "id": "041d9564",
   "metadata": {
    "id": "041d9564"
   },
   "source": [
    "<h3 style=\"color:blue;\">2.2. Missing Value Treatment</h3>"
   ]
  },
  {
   "cell_type": "code",
   "execution_count": null,
   "id": "fb648a61",
   "metadata": {
    "id": "fb648a61",
    "outputId": "3b7253ec-1f7d-4e83-c4da-73621fa95bb8"
   },
   "outputs": [
    {
     "data": {
      "text/plain": [
       "category_code          11.17\n",
       "status                  0.00\n",
       "founded_at             24.59\n",
       "closed_at              97.61\n",
       "country_code           22.72\n",
       "first_investment_at    97.95\n",
       "last_investment_at     97.95\n",
       "investment_rounds      97.94\n",
       "invested_companies     97.94\n",
       "first_funding_at       71.25\n",
       "last_funding_at        71.25\n",
       "funding_rounds         71.07\n",
       "funding_total_usd      74.55\n",
       "first_milestone_at     48.74\n",
       "last_milestone_at      48.74\n",
       "milestones             48.74\n",
       "relationships          31.43\n",
       "lat                    25.91\n",
       "lng                    25.91\n",
       "ROI                    99.34\n",
       "dtype: float64"
      ]
     },
     "execution_count": 81,
     "metadata": {},
     "output_type": "execute_result"
    }
   ],
   "source": [
    "round(df.isna().sum()/df.shape[0]*100, 2)"
   ]
  },
  {
   "cell_type": "markdown",
   "id": "45c9b5d6",
   "metadata": {
    "id": "45c9b5d6"
   },
   "source": [
    "<h3 style=\"color:blue;\">2.2.1. Drop the columns which contains more than 97% of null rows.</h3>"
   ]
  },
  {
   "cell_type": "code",
   "execution_count": null,
   "id": "93e2d2e1",
   "metadata": {
    "id": "93e2d2e1",
    "outputId": "700a7f4a-34ea-4032-e004-8dcf8dc30183"
   },
   "outputs": [
    {
     "data": {
      "text/plain": [
       "category_code         11.17\n",
       "status                 0.00\n",
       "founded_at            24.59\n",
       "closed_at             97.61\n",
       "country_code          22.72\n",
       "first_funding_at      71.25\n",
       "last_funding_at       71.25\n",
       "funding_rounds        71.07\n",
       "funding_total_usd     74.55\n",
       "first_milestone_at    48.74\n",
       "last_milestone_at     48.74\n",
       "milestones            48.74\n",
       "relationships         31.43\n",
       "lat                   25.91\n",
       "lng                   25.91\n",
       "dtype: float64"
      ]
     },
     "execution_count": 145,
     "metadata": {},
     "output_type": "execute_result"
    }
   ],
   "source": [
    "drop_cols=['ROI','first_investment_at','last_investment_at','investment_rounds','invested_companies']\n",
    "df.drop(columns=drop_cols, inplace=True)\n",
    "round(df.isna().sum()/df.shape[0]*100, 2)"
   ]
  },
  {
   "cell_type": "code",
   "execution_count": null,
   "id": "e55fec8d",
   "metadata": {
    "id": "e55fec8d",
    "outputId": "7360fd20-b49c-4b0b-d3f4-adc6380a445f"
   },
   "outputs": [
    {
     "data": {
      "text/plain": [
       "(109464, 15)"
      ]
     },
     "execution_count": 83,
     "metadata": {},
     "output_type": "execute_result"
    }
   ],
   "source": [
    "df.shape"
   ]
  },
  {
   "cell_type": "markdown",
   "id": "a800a71a",
   "metadata": {
    "id": "a800a71a"
   },
   "source": [
    "<h3 style=\"color:blue;\">2.2.2. Delete instances with missing values for 'country_code', 'category_code', 'founded_at' 'first_funding_at', 'first_milestone_at', 'relationships' and 'lat'.</h3>\n",
    "<h4> (Since these are the type of data where adding value via imputation will create wrong pattern only)"
   ]
  },
  {
   "cell_type": "code",
   "execution_count": null,
   "id": "e94a5b17",
   "metadata": {
    "id": "e94a5b17",
    "outputId": "9c71050f-c00c-436a-de21-2f6451e9942b",
    "scrolled": true
   },
   "outputs": [
    {
     "data": {
      "text/plain": [
       "category_code          0.00\n",
       "status                 0.00\n",
       "founded_at             0.00\n",
       "closed_at             94.64\n",
       "country_code           0.00\n",
       "first_funding_at       0.00\n",
       "last_funding_at        0.00\n",
       "funding_rounds         0.00\n",
       "funding_total_usd     10.13\n",
       "first_milestone_at     0.00\n",
       "last_milestone_at      0.00\n",
       "milestones             0.00\n",
       "relationships          0.00\n",
       "lat                    0.00\n",
       "lng                    0.00\n",
       "dtype: float64"
      ]
     },
     "execution_count": 146,
     "metadata": {},
     "output_type": "execute_result"
    }
   ],
   "source": [
    "df.dropna(subset=['country_code','category_code','founded_at','first_funding_at',\n",
    "                  'first_milestone_at', 'relationships', 'lat'], axis=0, inplace=True)\n",
    "round(df.isna().sum()/df.shape[0]*100, 2)"
   ]
  },
  {
   "cell_type": "code",
   "execution_count": null,
   "id": "253ec1b0",
   "metadata": {
    "id": "253ec1b0",
    "outputId": "2dab3d88-6900-4b72-88ce-cec5bf2457b0"
   },
   "outputs": [
    {
     "data": {
      "text/plain": [
       "(13716, 15)"
      ]
     },
     "execution_count": 85,
     "metadata": {},
     "output_type": "execute_result"
    }
   ],
   "source": [
    "df.shape"
   ]
  },
  {
   "cell_type": "markdown",
   "id": "e9e04278",
   "metadata": {
    "id": "e9e04278"
   },
   "source": [
    "<h3 style=\"color:blue;\">2.2.3. Fill the missing values in numerical columns, 'funding_total_usd' by median.</h3>"
   ]
  },
  {
   "cell_type": "markdown",
   "id": "e767f3c4",
   "metadata": {
    "id": "e767f3c4"
   },
   "source": [
    "- The median is less sensitive to extreme values compared to the mean. Imputing missing values with the median can be a good choice for right-skewed data as it is robust to outliers."
   ]
  },
  {
   "cell_type": "code",
   "execution_count": null,
   "id": "c0204299",
   "metadata": {
    "id": "c0204299",
    "outputId": "c5740a01-b453-4f8a-f69e-7149edb9fc4e",
    "scrolled": true
   },
   "outputs": [
    {
     "data": {
      "text/plain": [
       "category_code          0.00\n",
       "status                 0.00\n",
       "founded_at             0.00\n",
       "closed_at             94.64\n",
       "country_code           0.00\n",
       "first_funding_at       0.00\n",
       "last_funding_at        0.00\n",
       "funding_rounds         0.00\n",
       "funding_total_usd      0.00\n",
       "first_milestone_at     0.00\n",
       "last_milestone_at      0.00\n",
       "milestones             0.00\n",
       "relationships          0.00\n",
       "lat                    0.00\n",
       "lng                    0.00\n",
       "dtype: float64"
      ]
     },
     "execution_count": 147,
     "metadata": {},
     "output_type": "execute_result"
    }
   ],
   "source": [
    "median=df['funding_total_usd'].median()\n",
    "df['funding_total_usd'].fillna(median, inplace=True)\n",
    "round(df.isna().sum()/df.shape[0]*100, 2)"
   ]
  },
  {
   "cell_type": "markdown",
   "id": "92c7486f",
   "metadata": {
    "id": "92c7486f"
   },
   "source": [
    "<h2 style=\"color:blue;\">Data Trasformation</h2>"
   ]
  },
  {
   "cell_type": "markdown",
   "id": "472fc6da",
   "metadata": {
    "id": "472fc6da"
   },
   "source": [
    "<h3 style=\"color:red\">1. Data Type Conversion</h3>"
   ]
  },
  {
   "cell_type": "code",
   "execution_count": null,
   "id": "030af557",
   "metadata": {
    "id": "030af557",
    "outputId": "d40107a1-5e7c-4583-933f-ea70ad7f5266"
   },
   "outputs": [
    {
     "data": {
      "text/plain": [
       "category_code          object\n",
       "status                 object\n",
       "founded_at             object\n",
       "closed_at              object\n",
       "country_code           object\n",
       "first_funding_at       object\n",
       "last_funding_at        object\n",
       "funding_rounds        float64\n",
       "funding_total_usd     float64\n",
       "first_milestone_at     object\n",
       "last_milestone_at      object\n",
       "milestones            float64\n",
       "relationships         float64\n",
       "lat                   float64\n",
       "lng                   float64\n",
       "dtype: object"
      ]
     },
     "execution_count": 87,
     "metadata": {},
     "output_type": "execute_result"
    }
   ],
   "source": [
    "df.dtypes"
   ]
  },
  {
   "cell_type": "markdown",
   "id": "37f8a8fc",
   "metadata": {
    "id": "37f8a8fc"
   },
   "source": [
    "<h3 style=\"color:blue;\">1.1. Convert data type of \"relationships\", \"funding_rounds\", \"milestones\" from float to integer.</h3>"
   ]
  },
  {
   "cell_type": "code",
   "execution_count": null,
   "id": "5f8aeddb",
   "metadata": {
    "id": "5f8aeddb",
    "outputId": "62337b9b-cb15-4ed9-e2a7-5b75e74b7c05"
   },
   "outputs": [
    {
     "data": {
      "text/plain": [
       "funding_rounds    int32\n",
       "milestones        int32\n",
       "relationships     int32\n",
       "dtype: object"
      ]
     },
     "execution_count": 148,
     "metadata": {},
     "output_type": "execute_result"
    }
   ],
   "source": [
    "df['funding_rounds']=df['funding_rounds'].astype(int)\n",
    "df['milestones']=df['milestones'].astype(int)\n",
    "df['relationships']=df['relationships'].astype(int)\n",
    "\n",
    "df[['funding_rounds','milestones','relationships']].dtypes"
   ]
  },
  {
   "cell_type": "markdown",
   "id": "e06a412e",
   "metadata": {
    "id": "e06a412e"
   },
   "source": [
    "<h3 style=\"color:blue;\">1.2. Convert data type of Date column from object to datetime and the extract only year.</h3>"
   ]
  },
  {
   "cell_type": "code",
   "execution_count": null,
   "id": "e4352421",
   "metadata": {
    "id": "e4352421",
    "outputId": "265246aa-c006-420c-99e8-98b5499e7fae"
   },
   "outputs": [
    {
     "data": {
      "text/plain": [
       "category_code          object\n",
       "status                 object\n",
       "founded_at              int64\n",
       "closed_at             float64\n",
       "country_code           object\n",
       "first_funding_at        int64\n",
       "last_funding_at         int64\n",
       "funding_rounds          int32\n",
       "funding_total_usd     float64\n",
       "first_milestone_at      int64\n",
       "last_milestone_at       int64\n",
       "milestones              int32\n",
       "relationships           int32\n",
       "lat                   float64\n",
       "lng                   float64\n",
       "dtype: object"
      ]
     },
     "execution_count": 149,
     "metadata": {},
     "output_type": "execute_result"
    }
   ],
   "source": [
    "df['founded_at']=pd.to_datetime(df['founded_at']).dt.year\n",
    "df['closed_at']=pd.to_datetime(df['closed_at']).dt.year\n",
    "df['first_funding_at']=pd.to_datetime(df['first_funding_at']).dt.year\n",
    "df['last_funding_at']=pd.to_datetime(df['last_funding_at']).dt.year\n",
    "df['first_milestone_at']=pd.to_datetime(df['first_milestone_at']).dt.year\n",
    "df['last_milestone_at']=pd.to_datetime(df['last_milestone_at']).dt.year\n",
    "\n",
    "df.dtypes"
   ]
  },
  {
   "cell_type": "markdown",
   "id": "c8c1f221",
   "metadata": {
    "id": "c8c1f221"
   },
   "source": [
    "<h3 style=\"color:red\">2. Generalizing the categorical data</h3>"
   ]
  },
  {
   "cell_type": "markdown",
   "id": "bbd849ce",
   "metadata": {
    "id": "bbd849ce"
   },
   "source": [
    "<h3 style=\"color:blue\">2.1. Generalize 'country_code'.</h3>\n",
    "\n",
    "- Since there are 95 counties, one-hot encoding which is going to create a lot of columns so Lets Check the repetition of value in ascending order and keep the first 15 values and name remaining one as other."
   ]
  },
  {
   "cell_type": "code",
   "execution_count": null,
   "id": "ca2d94b1",
   "metadata": {
    "id": "ca2d94b1",
    "outputId": "979d30ac-55e5-4b42-b54b-267a375217cc"
   },
   "outputs": [
    {
     "data": {
      "text/plain": [
       "95"
      ]
     },
     "execution_count": 90,
     "metadata": {},
     "output_type": "execute_result"
    }
   ],
   "source": [
    "df['country_code'].nunique()"
   ]
  },
  {
   "cell_type": "code",
   "execution_count": null,
   "id": "439499db",
   "metadata": {
    "id": "439499db",
    "outputId": "dce9a190-a1e0-4ab9-fe40-fa58adb84b9a"
   },
   "outputs": [
    {
     "data": {
      "text/plain": [
       "USA      9596\n",
       "other    1639\n",
       "GBR       772\n",
       "CAN       445\n",
       "DEU       299\n",
       "FRA       254\n",
       "ISR       233\n",
       "IND       201\n",
       "ESP       167\n",
       "AUS       110\n",
       "Name: country_code, dtype: int64"
      ]
     },
     "execution_count": 150,
     "metadata": {},
     "output_type": "execute_result"
    }
   ],
   "source": [
    "other_countries = df['country_code'].value_counts()[9:].index\n",
    "df['country_code'] = df['country_code'].replace(to_replace=other_countries, value='other')\n",
    "df['country_code'].value_counts().sort_values(ascending=False)"
   ]
  },
  {
   "cell_type": "markdown",
   "id": "c560371b",
   "metadata": {
    "id": "c560371b"
   },
   "source": [
    "<h3 style=\"color:blue\">2.2. Generalize 'status'.</h3>"
   ]
  },
  {
   "cell_type": "code",
   "execution_count": null,
   "id": "b4f2169b",
   "metadata": {
    "id": "b4f2169b",
    "outputId": "3ad7c2a2-2530-4fad-b879-c30e89a8a9f9"
   },
   "outputs": [
    {
     "name": "stdout",
     "output_type": "stream",
     "text": [
      "operating        84.1\n",
      "not-operating    15.9\n",
      "Name: status, dtype: float64\n"
     ]
    }
   ],
   "source": [
    "df['status'].replace({'ipo':'operating','acquired':'not-operating','closed':'not-operating'}, inplace=True)\n",
    "print((df['status'].value_counts()/df.shape[0]*100).round(2))"
   ]
  },
  {
   "cell_type": "markdown",
   "id": "d1b05744",
   "metadata": {
    "id": "d1b05744"
   },
   "source": [
    "#### We can clealy see the imbalance in the target class."
   ]
  },
  {
   "cell_type": "markdown",
   "id": "5d7c37b0",
   "metadata": {
    "id": "5d7c37b0"
   },
   "source": [
    "<h3 style=\"color:blue\">2.3. Generalize 'category_code'</h3>\n",
    "\n",
    "- Since there are 42 categories, one-hot encoding which is going to create a lot of columns so Lets Check the repetition of value in ascending order and keep the first 15 values and name remaining one as other."
   ]
  },
  {
   "cell_type": "code",
   "execution_count": null,
   "id": "e16e21f1",
   "metadata": {
    "id": "e16e21f1",
    "outputId": "29b53f01-48c3-431b-8e5e-dd6493ae77a5"
   },
   "outputs": [
    {
     "data": {
      "text/plain": [
       "42"
      ]
     },
     "execution_count": 93,
     "metadata": {},
     "output_type": "execute_result"
    }
   ],
   "source": [
    "df['category_code'].nunique()"
   ]
  },
  {
   "cell_type": "code",
   "execution_count": null,
   "id": "985d6120",
   "metadata": {
    "id": "985d6120",
    "outputId": "b63c9a55-f311-4cca-9813-62a1457448f2"
   },
   "outputs": [
    {
     "data": {
      "text/plain": [
       "other              2636\n",
       "software           2174\n",
       "web                1531\n",
       "mobile             1228\n",
       "enterprise         1053\n",
       "ecommerce           858\n",
       "advertising         766\n",
       "games_video         681\n",
       "biotech             600\n",
       "analytics           429\n",
       "social              364\n",
       "hardware            319\n",
       "cleantech           301\n",
       "finance             281\n",
       "education           261\n",
       "network_hosting     234\n",
       "Name: category_code, dtype: int64"
      ]
     },
     "execution_count": 152,
     "metadata": {},
     "output_type": "execute_result"
    }
   ],
   "source": [
    "other_categories = df['category_code'].value_counts()[15:].index\n",
    "df['category_code'] = df['category_code'].replace(to_replace=other_categories, value='other')\n",
    "df['category_code'].value_counts().sort_values(ascending=False)"
   ]
  },
  {
   "cell_type": "markdown",
   "id": "a574bbef",
   "metadata": {
    "id": "a574bbef"
   },
   "source": [
    "<h2 style=\"color:blue;\">Feature Creation and Extraction.</h2>"
   ]
  },
  {
   "cell_type": "markdown",
   "id": "12ceaedb",
   "metadata": {
    "id": "12ceaedb"
   },
   "source": [
    "### Creating \"active_days\" feature as below,\n",
    "1. Replacing values in closed_at columns using below condition:\n",
    "     -  if the value in status is 'operating' then in closed_at, Let's put 2021.\n",
    "     -  Where as if the value is 'not-operating', let's put 0.\n",
    "2. Subtract founded_date from closed_date, and calculate age in days.\n",
    "3. Then drop the closed_at column."
   ]
  },
  {
   "cell_type": "code",
   "execution_count": null,
   "id": "4fecf63c",
   "metadata": {
    "id": "4fecf63c",
    "outputId": "ad9d71a8-a949-48e0-dd5e-95f55dc99f08"
   },
   "outputs": [
    {
     "data": {
      "text/plain": [
       "0     5840.0\n",
       "13       NaN\n",
       "18       NaN\n",
       "20    6570.0\n",
       "24    5475.0\n",
       "Name: active_days, dtype: float64"
      ]
     },
     "execution_count": 153,
     "metadata": {},
     "output_type": "execute_result"
    }
   ],
   "source": [
    "df['closed_at']=(np.where((df['status']=='operating'), 2021, df['closed_at']))\n",
    "df['active_days'] = (df['closed_at'] - df['founded_at'])*365\n",
    "df.drop('closed_at', axis=1, inplace=True)\n",
    "df['active_days'].head()"
   ]
  },
  {
   "cell_type": "markdown",
   "id": "47dde4f3",
   "metadata": {
    "id": "47dde4f3"
   },
   "source": [
    "#### We know that \"closed_at\" column consists of missing values, lets check the percentage of missing values in \"active_days\" column and Drop these NaN values."
   ]
  },
  {
   "cell_type": "code",
   "execution_count": null,
   "id": "f5855236",
   "metadata": {
    "id": "f5855236",
    "outputId": "8c05e5cb-a8c8-4a1a-c3e4-9d7a4a041a1d"
   },
   "outputs": [
    {
     "data": {
      "text/plain": [
       "10.542432195975502"
      ]
     },
     "execution_count": 154,
     "metadata": {},
     "output_type": "execute_result"
    }
   ],
   "source": [
    "df['active_days'].isna().sum()/df.shape[0]*100"
   ]
  },
  {
   "cell_type": "code",
   "execution_count": null,
   "id": "fe1f7f02",
   "metadata": {
    "id": "fe1f7f02",
    "outputId": "8b900a56-809b-45e0-c0dd-1840dd8916bf"
   },
   "outputs": [
    {
     "data": {
      "text/plain": [
       "(12270, 15)"
      ]
     },
     "execution_count": 155,
     "metadata": {},
     "output_type": "execute_result"
    }
   ],
   "source": [
    "df.dropna(subset=['active_days'], axis=0, inplace=True)\n",
    "df.shape"
   ]
  },
  {
   "cell_type": "markdown",
   "id": "f56b4ca5",
   "metadata": {
    "id": "f56b4ca5"
   },
   "source": [
    "#### Lets check minimum and maximum active days"
   ]
  },
  {
   "cell_type": "code",
   "execution_count": null,
   "id": "27a5823f",
   "metadata": {
    "id": "27a5823f",
    "outputId": "3feba1ea-28b5-47b2-a78e-8019bd2668f9"
   },
   "outputs": [
    {
     "data": {
      "text/plain": [
       "count    12270.000000\n",
       "mean      4758.118582\n",
       "std       2388.033227\n",
       "min      -3285.000000\n",
       "25%       3650.000000\n",
       "50%       4380.000000\n",
       "75%       5475.000000\n",
       "max      41975.000000\n",
       "Name: active_days, dtype: float64"
      ]
     },
     "execution_count": 156,
     "metadata": {},
     "output_type": "execute_result"
    }
   ],
   "source": [
    "df['active_days'].describe().T"
   ]
  },
  {
   "cell_type": "markdown",
   "id": "afbadf58",
   "metadata": {
    "id": "afbadf58"
   },
   "source": [
    "#### There are some rows which contains negative active days, lets find them and delete them from the data."
   ]
  },
  {
   "cell_type": "code",
   "execution_count": null,
   "id": "9f195f64",
   "metadata": {
    "id": "9f195f64"
   },
   "outputs": [],
   "source": [
    "df=df[df['active_days']>-1]"
   ]
  },
  {
   "cell_type": "code",
   "execution_count": null,
   "id": "6e76da7d",
   "metadata": {
    "id": "6e76da7d"
   },
   "outputs": [],
   "source": []
  },
  {
   "cell_type": "markdown",
   "id": "bd35d16d",
   "metadata": {
    "id": "bd35d16d"
   },
   "source": [
    "<h2 style=\"color:blue;\">Outlier Treatment</h2>"
   ]
  },
  {
   "cell_type": "markdown",
   "id": "2c2b398f",
   "metadata": {
    "id": "2c2b398f"
   },
   "source": [
    "#### Our dataset contains 5 numerical columns and these might posseses outliers. Lets check which of these column contains the outliers."
   ]
  },
  {
   "cell_type": "code",
   "execution_count": null,
   "id": "9f7d792a",
   "metadata": {
    "id": "9f7d792a",
    "outputId": "3a4b8811-99f0-47b9-80d9-5a5fa262b96b"
   },
   "outputs": [
    {
     "data": {
      "image/png": "[encoded data removed]",
      "text/plain": [
       "<Figure size 1296x1080 with 5 Axes>"
      ]
     },
     "metadata": {
      "needs_background": "light"
     },
     "output_type": "display_data"
    }
   ],
   "source": [
    "num_col=['funding_rounds','funding_total_usd','milestones','relationships','active_days']\n",
    "\n",
    "plt.figure(figsize=(18,15))\n",
    "for i, col in enumerate(num_col):\n",
    "    plt.subplot(3,2,i+1)\n",
    "    sns.boxplot(x=col, data=df)\n",
    "    plt.xlabel(\"\")\n",
    "    plt.title(f\"Distribution of Data in {col} Before Outlier Treatement\", color='red',  fontsize=15);"
   ]
  },
  {
   "cell_type": "markdown",
   "id": "f608bf4d",
   "metadata": {
    "id": "f608bf4d"
   },
   "source": [
    "#### All the 5 columns contains Outliers. But the exstreme outliers found in only three columns, \"relationships\", 'active_days and \"funding_total_usd\". Lets use IQR method to clip these outliers."
   ]
  },
  {
   "cell_type": "markdown",
   "id": "d8ed1fc5",
   "metadata": {
    "id": "d8ed1fc5"
   },
   "source": [
    "<h3 style=\"color:blue\">1. Outlier Treatment in \"funding_total_usd_column\".</h3>"
   ]
  },
  {
   "cell_type": "code",
   "execution_count": null,
   "id": "f7da46f1",
   "metadata": {
    "id": "f7da46f1",
    "outputId": "40613c2b-ae3e-4a35-f68e-956133077e28"
   },
   "outputs": [
    {
     "name": "stdout",
     "output_type": "stream",
     "text": [
      "First quartile range = 720000.0\n",
      "Second quartile range = 12800000.0\n",
      "IQR of funding_total_usd = 12080000.0\n",
      "Lower Limit = -17400000.0\n",
      "Upper Limit = 30920000.0\n"
     ]
    }
   ],
   "source": [
    "q1 = df['funding_total_usd'].quantile(0.25)   # First quartile range\n",
    "q3 = df['funding_total_usd'].quantile(0.75)    # Second quartile range\n",
    "print(f\"First quartile range = {q1}\\nSecond quartile range = {q3}\")\n",
    "\n",
    "IQR = q3 - q1    # Inter quartile range\n",
    "print(f\"IQR of funding_total_usd = {IQR}\")\n",
    "\n",
    "lower_bound = q1 - 1.5*IQR    # Lower Bounds\n",
    "upper_bound = q3 + 1.5*IQR    # Upper Bounds\n",
    "print(f\"Lower Limit = {lower_bound}\")\n",
    "print(f\"Upper Limit = {upper_bound}\")\n",
    "\n",
    "# Selecting rows with no outliers\n",
    "df=df[df['funding_total_usd']<upper_bound]"
   ]
  },
  {
   "cell_type": "markdown",
   "id": "21f33016",
   "metadata": {
    "id": "21f33016"
   },
   "source": [
    "<h3 style=\"color:blue\">2. Outlier Treatment in \"relationships\" column."
   ]
  },
  {
   "cell_type": "code",
   "execution_count": null,
   "id": "4f811429",
   "metadata": {
    "id": "4f811429",
    "outputId": "019f14df-1ddb-4077-acef-454d0d994dcd"
   },
   "outputs": [
    {
     "name": "stdout",
     "output_type": "stream",
     "text": [
      "First quartile range = 2.0\n",
      "Second quartile range = 7.0\n",
      "IQR of relationships = 5.0\n",
      "Lower Limit = -5.5\n",
      "Upper Limit = 14.5\n"
     ]
    }
   ],
   "source": [
    "q1 = df['relationships'].quantile(0.25)   # First quartile range\n",
    "q3 = df['relationships'].quantile(0.75)    # Second quartile range\n",
    "print(f\"First quartile range = {q1}\\nSecond quartile range = {q3}\")\n",
    "\n",
    "IQR = q3 - q1    # Inter quartile range\n",
    "print(f\"IQR of relationships = {IQR}\")\n",
    "\n",
    "lower_bound = q1 - 1.5*IQR    # Lower Bounds\n",
    "upper_bound = q3 + 1.5*IQR    # Upper Bounds\n",
    "print(f\"Lower Limit = {lower_bound}\")\n",
    "print(f\"Upper Limit = {upper_bound}\")\n",
    "\n",
    "# Selecting rows with no outliers\n",
    "df=df[df['relationships']< upper_bound]"
   ]
  },
  {
   "cell_type": "markdown",
   "id": "26786eef",
   "metadata": {
    "id": "26786eef"
   },
   "source": [
    "<h3 style=\"color:blue\">3. Outlier Treatment in \"active_days\" column."
   ]
  },
  {
   "cell_type": "code",
   "execution_count": null,
   "id": "aae23790",
   "metadata": {
    "id": "aae23790",
    "outputId": "661d1082-044d-4e31-a41b-76e7e67c8c70"
   },
   "outputs": [
    {
     "name": "stdout",
     "output_type": "stream",
     "text": [
      "First quartile range = 3285.0\n",
      "Second quartile range = 5110.0\n",
      "IQR of active_days = 1825.0\n",
      "Lower Limit = 547.5\n",
      "Upper Limit = 7847.5\n"
     ]
    }
   ],
   "source": [
    "q1 = df['active_days'].quantile(0.25)   # First quartile range\n",
    "q3 = df['active_days'].quantile(0.75)    # Second quartile range\n",
    "print(f\"First quartile range = {q1}\\nSecond quartile range = {q3}\")\n",
    "\n",
    "IQR = q3 - q1    # Inter quartile range\n",
    "print(f\"IQR of active_days = {IQR}\")\n",
    "\n",
    "lower_bound = q1 - 1.5*IQR    # Lower Bounds\n",
    "upper_bound = q3 + 1.5*IQR    # Upper Bounds\n",
    "print(f\"Lower Limit = {lower_bound}\")\n",
    "print(f\"Upper Limit = {upper_bound}\")\n",
    "\n",
    "# Selecting rows with no outliers\n",
    "df=df[(df['active_days']< upper_bound) & (df['active_days']> lower_bound)]"
   ]
  },
  {
   "cell_type": "markdown",
   "id": "e6944d71",
   "metadata": {
    "id": "e6944d71"
   },
   "source": [
    "<h3 style=\"color:blue\">4. Outlier Treatment in \"funding_rounds\" column."
   ]
  },
  {
   "cell_type": "code",
   "execution_count": null,
   "id": "6d393919",
   "metadata": {
    "id": "6d393919",
    "outputId": "772e6de1-d552-464c-f2f8-c94b4f210cdf"
   },
   "outputs": [
    {
     "name": "stdout",
     "output_type": "stream",
     "text": [
      "First quartile range = 1.0\n",
      "Second quartile range = 2.0\n",
      "IQR of funding_rounds = 1.0\n",
      "Lower Limit = -0.5\n",
      "Upper Limit = 3.5\n"
     ]
    }
   ],
   "source": [
    "q1 = df['funding_rounds'].quantile(0.25)   # First quartile range\n",
    "q3 = df['funding_rounds'].quantile(0.75)    # Second quartile range\n",
    "print(f\"First quartile range = {q1}\\nSecond quartile range = {q3}\")\n",
    "\n",
    "IQR = q3 - q1    # Inter quartile range\n",
    "print(f\"IQR of funding_rounds = {IQR}\")\n",
    "\n",
    "lower_bound = q1 - 1.5*IQR    # Lower Bounds\n",
    "upper_bound = q3 + 1.5*IQR    # Upper Bounds\n",
    "print(f\"Lower Limit = {lower_bound}\")\n",
    "print(f\"Upper Limit = {upper_bound}\")\n",
    "\n",
    "# Selecting rows with no outliers\n",
    "df=df[df['funding_rounds']< upper_bound]"
   ]
  },
  {
   "cell_type": "markdown",
   "id": "fd1bec7b",
   "metadata": {
    "id": "fd1bec7b"
   },
   "source": [
    "<h3 style=\"color:blue\">5. Outlier Treatment in \"milestones\" column."
   ]
  },
  {
   "cell_type": "code",
   "execution_count": null,
   "id": "bbd117d4",
   "metadata": {
    "id": "bbd117d4",
    "outputId": "28b1d225-43a3-4c45-84b4-04e30ee34210"
   },
   "outputs": [
    {
     "name": "stdout",
     "output_type": "stream",
     "text": [
      "First quartile range = 1.0\n",
      "Second quartile range = 2.0\n",
      "IQR of funding_total_usd = 1.0\n",
      "Lower Limit = -0.5\n",
      "Upper Limit = 3.5\n"
     ]
    }
   ],
   "source": [
    "q1 = df['milestones'].quantile(0.25)   # First quartile range\n",
    "q3 = df['milestones'].quantile(0.75)    # Second quartile range\n",
    "print(f\"First quartile range = {q1}\\nSecond quartile range = {q3}\")\n",
    "\n",
    "IQR = q3 - q1    # Inter quartile range\n",
    "print(f\"IQR of funding_total_usd = {IQR}\")\n",
    "\n",
    "lower_bound = q1 - 1.5*IQR    # Lower Bounds\n",
    "upper_bound = q3 + 1.5*IQR    # Upper Bounds\n",
    "print(f\"Lower Limit = {lower_bound}\")\n",
    "print(f\"Upper Limit = {upper_bound}\")\n",
    "\n",
    "# Selecting rows with no outliers\n",
    "df=df[df['milestones']< upper_bound]"
   ]
  },
  {
   "cell_type": "code",
   "execution_count": null,
   "id": "b5aaf572",
   "metadata": {
    "id": "b5aaf572",
    "outputId": "ee05cb7e-c146-41a6-8ed1-10ab969f0cc5"
   },
   "outputs": [
    {
     "data": {
      "image/png": "[encoded data removed]",
      "text/plain": [
       "<Figure size 1296x1080 with 5 Axes>"
      ]
     },
     "metadata": {
      "needs_background": "light"
     },
     "output_type": "display_data"
    }
   ],
   "source": [
    "plt.figure(figsize=(18,15))\n",
    "for i, col in enumerate(num_col):\n",
    "    plt.subplot(3,2,i+1)\n",
    "    sns.boxplot(x=col, data=df)\n",
    "    plt.xlabel(\"\")\n",
    "    plt.title(f\"Distribution of Data in {col} after Outlier Treatement\", color='red',  fontsize=15);"
   ]
  },
  {
   "cell_type": "markdown",
   "id": "2531b79e",
   "metadata": {
    "id": "2531b79e"
   },
   "source": [
    "### Check for duplicates and missing values and save this dataset for further analysis and model building."
   ]
  },
  {
   "cell_type": "code",
   "execution_count": null,
   "id": "bd15ae01",
   "metadata": {
    "id": "bd15ae01",
    "outputId": "34b3e2e5-c807-438d-f0a9-f4c02a40c99a"
   },
   "outputs": [
    {
     "data": {
      "text/plain": [
       "8"
      ]
     },
     "execution_count": 166,
     "metadata": {},
     "output_type": "execute_result"
    }
   ],
   "source": [
    "df.duplicated().sum()"
   ]
  },
  {
   "cell_type": "code",
   "execution_count": null,
   "id": "1f207db2",
   "metadata": {
    "id": "1f207db2",
    "outputId": "2d50176f-30a2-4a68-f0df-9fc0743c5664"
   },
   "outputs": [
    {
     "data": {
      "text/plain": [
       "0"
      ]
     },
     "execution_count": 167,
     "metadata": {},
     "output_type": "execute_result"
    }
   ],
   "source": [
    "df.drop_duplicates(inplace=True)\n",
    "df.duplicated().sum()"
   ]
  },
  {
   "cell_type": "code",
   "execution_count": null,
   "id": "bb852c8e",
   "metadata": {
    "id": "bb852c8e",
    "outputId": "8610da53-4e22-4d11-c57f-bf9b7618deb1"
   },
   "outputs": [
    {
     "data": {
      "text/plain": [
       "category_code         0\n",
       "status                0\n",
       "founded_at            0\n",
       "country_code          0\n",
       "first_funding_at      0\n",
       "last_funding_at       0\n",
       "funding_rounds        0\n",
       "funding_total_usd     0\n",
       "first_milestone_at    0\n",
       "last_milestone_at     0\n",
       "milestones            0\n",
       "relationships         0\n",
       "lat                   0\n",
       "lng                   0\n",
       "active_days           0\n",
       "dtype: int64"
      ]
     },
     "execution_count": 168,
     "metadata": {},
     "output_type": "execute_result"
    }
   ],
   "source": [
    "df.isna().sum()"
   ]
  },
  {
   "cell_type": "code",
   "execution_count": null,
   "id": "d60598b2",
   "metadata": {
    "id": "d60598b2"
   },
   "outputs": [],
   "source": [
    "df.to_csv('data/clean_data.csv', index=False)"
   ]
  },
  {
   "cell_type": "code",
   "execution_count": null,
   "id": "6e57d422",
   "metadata": {
    "id": "6e57d422",
    "outputId": "852054e5-0b64-4523-d44c-06a33bbc9f78"
   },
   "outputs": [
    {
     "data": {
      "text/plain": [
       "(8713, 15)"
      ]
     },
     "execution_count": 3,
     "metadata": {},
     "output_type": "execute_result"
    }
   ],
   "source": [
    "df.shape"
   ]
  },
  {
   "cell_type": "markdown",
   "id": "e74f19b4",
   "metadata": {
    "id": "e74f19b4"
   },
   "source": [
    "<h3 style=\"color:blue;\">Descriptive Statistics after data cleaning"
   ]
  },
  {
   "cell_type": "code",
   "execution_count": null,
   "id": "38b3deeb",
   "metadata": {
    "id": "38b3deeb",
    "outputId": "d8fae695-5038-407f-a71f-3ba94c4b17ec"
   },
   "outputs": [
    {
     "data": {
      "text/html": [
       "<div>\n",
       "<style scoped>\n",
       "    .dataframe tbody tr th:only-of-type {\n",
       "        vertical-align: middle;\n",
       "    }\n",
       "\n",
       "    .dataframe tbody tr th {\n",
       "        vertical-align: top;\n",
       "    }\n",
       "\n",
       "    .dataframe thead th {\n",
       "        text-align: right;\n",
       "    }\n",
       "</style>\n",
       "<table border=\"1\" class=\"dataframe\">\n",
       "  <thead>\n",
       "    <tr style=\"text-align: right;\">\n",
       "      <th></th>\n",
       "      <th>count</th>\n",
       "      <th>mean</th>\n",
       "      <th>std</th>\n",
       "      <th>min</th>\n",
       "      <th>25%</th>\n",
       "      <th>50%</th>\n",
       "      <th>75%</th>\n",
       "      <th>max</th>\n",
       "    </tr>\n",
       "  </thead>\n",
       "  <tbody>\n",
       "    <tr>\n",
       "      <th>founded_at</th>\n",
       "      <td>8713.0</td>\n",
       "      <td>2009.19</td>\n",
       "      <td>3.02</td>\n",
       "      <td>1989.00</td>\n",
       "      <td>2008.00</td>\n",
       "      <td>2010.00</td>\n",
       "      <td>2011.00</td>\n",
       "      <td>2014.00</td>\n",
       "    </tr>\n",
       "    <tr>\n",
       "      <th>first_funding_at</th>\n",
       "      <td>8713.0</td>\n",
       "      <td>2010.74</td>\n",
       "      <td>2.16</td>\n",
       "      <td>1974.00</td>\n",
       "      <td>2010.00</td>\n",
       "      <td>2011.00</td>\n",
       "      <td>2012.00</td>\n",
       "      <td>2013.00</td>\n",
       "    </tr>\n",
       "    <tr>\n",
       "      <th>last_funding_at</th>\n",
       "      <td>8713.0</td>\n",
       "      <td>2011.34</td>\n",
       "      <td>1.96</td>\n",
       "      <td>1974.00</td>\n",
       "      <td>2011.00</td>\n",
       "      <td>2012.00</td>\n",
       "      <td>2013.00</td>\n",
       "      <td>2013.00</td>\n",
       "    </tr>\n",
       "    <tr>\n",
       "      <th>funding_rounds</th>\n",
       "      <td>8713.0</td>\n",
       "      <td>1.50</td>\n",
       "      <td>0.69</td>\n",
       "      <td>1.00</td>\n",
       "      <td>1.00</td>\n",
       "      <td>1.00</td>\n",
       "      <td>2.00</td>\n",
       "      <td>3.00</td>\n",
       "    </tr>\n",
       "    <tr>\n",
       "      <th>funding_total_usd</th>\n",
       "      <td>8713.0</td>\n",
       "      <td>4083567.40</td>\n",
       "      <td>5761437.71</td>\n",
       "      <td>291.00</td>\n",
       "      <td>400000.00</td>\n",
       "      <td>2000000.00</td>\n",
       "      <td>4100000.00</td>\n",
       "      <td>30800000.00</td>\n",
       "    </tr>\n",
       "    <tr>\n",
       "      <th>first_milestone_at</th>\n",
       "      <td>8713.0</td>\n",
       "      <td>2010.66</td>\n",
       "      <td>2.62</td>\n",
       "      <td>1976.00</td>\n",
       "      <td>2010.00</td>\n",
       "      <td>2011.00</td>\n",
       "      <td>2012.00</td>\n",
       "      <td>2014.00</td>\n",
       "    </tr>\n",
       "    <tr>\n",
       "      <th>last_milestone_at</th>\n",
       "      <td>8713.0</td>\n",
       "      <td>2011.20</td>\n",
       "      <td>2.45</td>\n",
       "      <td>1976.00</td>\n",
       "      <td>2011.00</td>\n",
       "      <td>2012.00</td>\n",
       "      <td>2013.00</td>\n",
       "      <td>2014.00</td>\n",
       "    </tr>\n",
       "    <tr>\n",
       "      <th>milestones</th>\n",
       "      <td>8713.0</td>\n",
       "      <td>1.47</td>\n",
       "      <td>0.65</td>\n",
       "      <td>1.00</td>\n",
       "      <td>1.00</td>\n",
       "      <td>1.00</td>\n",
       "      <td>2.00</td>\n",
       "      <td>3.00</td>\n",
       "    </tr>\n",
       "    <tr>\n",
       "      <th>relationships</th>\n",
       "      <td>8713.0</td>\n",
       "      <td>4.25</td>\n",
       "      <td>2.98</td>\n",
       "      <td>1.00</td>\n",
       "      <td>2.00</td>\n",
       "      <td>3.00</td>\n",
       "      <td>6.00</td>\n",
       "      <td>14.00</td>\n",
       "    </tr>\n",
       "    <tr>\n",
       "      <th>lat</th>\n",
       "      <td>8713.0</td>\n",
       "      <td>38.40</td>\n",
       "      <td>14.73</td>\n",
       "      <td>-42.88</td>\n",
       "      <td>36.71</td>\n",
       "      <td>39.89</td>\n",
       "      <td>45.50</td>\n",
       "      <td>70.92</td>\n",
       "    </tr>\n",
       "    <tr>\n",
       "      <th>lng</th>\n",
       "      <td>8713.0</td>\n",
       "      <td>-58.84</td>\n",
       "      <td>66.51</td>\n",
       "      <td>-158.06</td>\n",
       "      <td>-118.49</td>\n",
       "      <td>-77.36</td>\n",
       "      <td>-0.13</td>\n",
       "      <td>174.78</td>\n",
       "    </tr>\n",
       "    <tr>\n",
       "      <th>active_days</th>\n",
       "      <td>8713.0</td>\n",
       "      <td>4107.92</td>\n",
       "      <td>1254.72</td>\n",
       "      <td>730.00</td>\n",
       "      <td>3285.00</td>\n",
       "      <td>4015.00</td>\n",
       "      <td>4745.00</td>\n",
       "      <td>7665.00</td>\n",
       "    </tr>\n",
       "  </tbody>\n",
       "</table>\n",
       "</div>"
      ],
      "text/plain": [
       "                     count        mean         std      min        25%  \\\n",
       "founded_at          8713.0     2009.19        3.02  1989.00    2008.00   \n",
       "first_funding_at    8713.0     2010.74        2.16  1974.00    2010.00   \n",
       "last_funding_at     8713.0     2011.34        1.96  1974.00    2011.00   \n",
       "funding_rounds      8713.0        1.50        0.69     1.00       1.00   \n",
       "funding_total_usd   8713.0  4083567.40  5761437.71   291.00  400000.00   \n",
       "first_milestone_at  8713.0     2010.66        2.62  1976.00    2010.00   \n",
       "last_milestone_at   8713.0     2011.20        2.45  1976.00    2011.00   \n",
       "milestones          8713.0        1.47        0.65     1.00       1.00   \n",
       "relationships       8713.0        4.25        2.98     1.00       2.00   \n",
       "lat                 8713.0       38.40       14.73   -42.88      36.71   \n",
       "lng                 8713.0      -58.84       66.51  -158.06    -118.49   \n",
       "active_days         8713.0     4107.92     1254.72   730.00    3285.00   \n",
       "\n",
       "                           50%         75%          max  \n",
       "founded_at             2010.00     2011.00      2014.00  \n",
       "first_funding_at       2011.00     2012.00      2013.00  \n",
       "last_funding_at        2012.00     2013.00      2013.00  \n",
       "funding_rounds            1.00        2.00         3.00  \n",
       "funding_total_usd   2000000.00  4100000.00  30800000.00  \n",
       "first_milestone_at     2011.00     2012.00      2014.00  \n",
       "last_milestone_at      2012.00     2013.00      2014.00  \n",
       "milestones                1.00        2.00         3.00  \n",
       "relationships             3.00        6.00        14.00  \n",
       "lat                      39.89       45.50        70.92  \n",
       "lng                     -77.36       -0.13       174.78  \n",
       "active_days            4015.00     4745.00      7665.00  "
      ]
     },
     "execution_count": 4,
     "metadata": {},
     "output_type": "execute_result"
    }
   ],
   "source": [
    "round(df.describe().T,2)"
   ]
  },
  {
   "cell_type": "code",
   "execution_count": null,
   "id": "a7eb7faf",
   "metadata": {
    "id": "a7eb7faf",
    "outputId": "473fc627-cf71-4002-a803-c9946bb1817b"
   },
   "outputs": [
    {
     "data": {
      "text/html": [
       "<div>\n",
       "<style scoped>\n",
       "    .dataframe tbody tr th:only-of-type {\n",
       "        vertical-align: middle;\n",
       "    }\n",
       "\n",
       "    .dataframe tbody tr th {\n",
       "        vertical-align: top;\n",
       "    }\n",
       "\n",
       "    .dataframe thead th {\n",
       "        text-align: right;\n",
       "    }\n",
       "</style>\n",
       "<table border=\"1\" class=\"dataframe\">\n",
       "  <thead>\n",
       "    <tr style=\"text-align: right;\">\n",
       "      <th></th>\n",
       "      <th>count</th>\n",
       "      <th>unique</th>\n",
       "      <th>top</th>\n",
       "      <th>freq</th>\n",
       "    </tr>\n",
       "  </thead>\n",
       "  <tbody>\n",
       "    <tr>\n",
       "      <th>category_code</th>\n",
       "      <td>8713</td>\n",
       "      <td>16</td>\n",
       "      <td>other</td>\n",
       "      <td>1688</td>\n",
       "    </tr>\n",
       "    <tr>\n",
       "      <th>status</th>\n",
       "      <td>8713</td>\n",
       "      <td>2</td>\n",
       "      <td>operating</td>\n",
       "      <td>8189</td>\n",
       "    </tr>\n",
       "    <tr>\n",
       "      <th>country_code</th>\n",
       "      <td>8713</td>\n",
       "      <td>10</td>\n",
       "      <td>USA</td>\n",
       "      <td>5471</td>\n",
       "    </tr>\n",
       "  </tbody>\n",
       "</table>\n",
       "</div>"
      ],
      "text/plain": [
       "              count unique        top  freq\n",
       "category_code  8713     16      other  1688\n",
       "status         8713      2  operating  8189\n",
       "country_code   8713     10        USA  5471"
      ]
     },
     "execution_count": 5,
     "metadata": {},
     "output_type": "execute_result"
    }
   ],
   "source": [
    "df.describe(include='object').T"
   ]
  },
  {
   "cell_type": "markdown",
   "id": "46afa8a7",
   "metadata": {
    "id": "46afa8a7"
   },
   "source": [
    "<h2 style=\"color:red;\">Observations After Cleaning the Data: 🕵️‍♀️🕵️‍♀️</h2>\n",
    "<h4 style=\"color:coral; line-height:2\">1. The average number of funding rounds is around 1.7(consider as 2), with a median (50th percentile) of 1. This suggests that a most of entities had only one funding round.<br>\n",
    "    2. On average, these companies were founded in 2008, with a standard deviation of 5.15 years. The founding years range from a minimum of 1908 to a maximum of 2014..<br>\n",
    "    3. Companies, on average, secured their first funding in 2010, with a standard deviation of 2.35 years. The earliest recorded first funding year is 1974, while the most recent is 2013.<br>\n",
    "    4. The dataset shows an average last funding year of 2011, with a standard deviation of 2.09 years. The earliest recorded last funding year is 1974, and the latest is 2013.<br>\n",
    "    6. On average, companies in our dataset underwent 1.70 funding rounds, with a standard deviation of 1.07. The number of funding rounds ranges from a minimum of 1 to a maximum of 15.<br>\n",
    "    7. The average total funding for these companies is 5,028,844.56, with a notable standard deviation of 6,904,009.13. Funding amounts vary, starting from 291 and reaching as high as 33,600,000.<br>\n",
    "    8. Companies, on average, achieved their first milestone in 2010, with a standard deviation of 2.89 years. The earliest recorded first milestone year is 1976, while the most recent is 2014.<br>\n",
    "    9. The dataset shows an average last milestone year of 2011, with a standard deviation of 2.71 years. The earliest recorded last milestone year is 1976, and the latest is 2014.<br>\n",
    "    10. On average, companies in our dataset accomplished 1.53 milestones, with a standard deviation of 0.74. The number of milestones ranges from a minimum of 1 to a maximum of 9.<br>\n",
    "    11. Companies, on average, have 4.50 recorded relationships, with a standard deviation of 3.16. The number of relationships varies from a minimum of 1 to a maximum of 14.<br>\n",
    "    12. Companies in our dataset have been active for an average of 4420 days, with a standard deviation of 2033.11. Active days range from 0 to 41245, with a median of 4015 days.</h4>"
   ]
  },
  {
   "cell_type": "code",
   "execution_count": null,
   "id": "6ba45a77",
   "metadata": {
    "id": "6ba45a77"
   },
   "outputs": [],
   "source": []
  }
 ],
 "metadata": {
  "colab": {
   "provenance": [],
   "toc_visible": true
  },
  "kernelspec": {
   "display_name": "Python 3 (ipykernel)",
   "language": "python",
   "name": "python3"
  },
  "language_info": {
   "codemirror_mode": {
    "name": "ipython",
    "version": 3
   },
   "file_extension": ".py",
   "mimetype": "text/x-python",
   "name": "python",
   "nbconvert_exporter": "python",
   "pygments_lexer": "ipython3",
   "version": "3.9.7"
  }
 },
 "nbformat": 4,
 "nbformat_minor": 5
}
