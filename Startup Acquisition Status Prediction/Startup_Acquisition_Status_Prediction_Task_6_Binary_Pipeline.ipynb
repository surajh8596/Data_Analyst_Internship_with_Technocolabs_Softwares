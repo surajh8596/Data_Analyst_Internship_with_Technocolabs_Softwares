{
 "cells": [
  {
   "cell_type": "markdown",
   "id": "b78ae89d-0bfd-408c-b1bb-b9255159e338",
   "metadata": {
    "id": "b78ae89d-0bfd-408c-b1bb-b9255159e338"
   },
   "source": [
    "<h1><b>Pipelining (Binary Classification)</b></h1>"
   ]
  },
  {
   "cell_type": "markdown",
   "id": "4c9c8f89-9f80-4865-8081-1b514ac78614",
   "metadata": {
    "id": "4c9c8f89-9f80-4865-8081-1b514ac78614"
   },
   "source": [
    "<b>In machine learning, pipelining refers to the process of chaining together multiple data processing steps into a single workflow or pipeline. These steps can include data preprocessing, feature extraction, feature selection, and model training. The purpose of pipelining is to streamline the workflow, making it easier to organize and manage complex processes, especially when dealing with large datasets.</b>"
   ]
  },
  {
   "cell_type": "markdown",
   "id": "a1831b9b-fe4b-4d80-bdbf-1bf32cdc3414",
   "metadata": {
    "id": "a1831b9b-fe4b-4d80-bdbf-1bf32cdc3414"
   },
   "source": [
    "<h3 style=\"color: blue;\"><b>Loading Libraries</b></h3>"
   ]
  },
  {
   "cell_type": "code",
   "execution_count": 1,
   "id": "da58d779-2942-4294-983b-f0ad94a07b66",
   "metadata": {
    "id": "da58d779-2942-4294-983b-f0ad94a07b66"
   },
   "outputs": [],
   "source": [
    "# Data loading and manipulating libraries\n",
    "import numpy as np\n",
    "import pandas as pd\n",
    "\n",
    "# Data visualization libraries\n",
    "import matplotlib.pyplot as plt\n",
    "import seaborn as sns\n",
    "# Train Test Split\n",
    "from sklearn.model_selection import train_test_split\n",
    "\n",
    "# Feature Engineering-Encoding\n",
    "from sklearn.preprocessing import OneHotEncoder, LabelEncoder, StandardScaler\n",
    "\n",
    "# Feature Selection and Feature Reduction\n",
    "from sklearn.decomposition import PCA\n",
    "from sklearn.feature_selection import SelectKBest, mutual_info_classif\n",
    "\n",
    "# Oversampling the lower target class\n",
    "from imblearn.over_sampling import SMOTE\n",
    "\n",
    "# Evaluation Metrics\n",
    "from sklearn.metrics import classification_report, accuracy_score, recall_score, f1_score, precision_score, confusion_matrix\n",
    "\n",
    "#Pipeline imports\n",
    "from imblearn.pipeline import Pipeline as ImbPipeline\n",
    "from sklearn.pipeline import Pipeline\n",
    "from sklearn.compose import ColumnTransformer\n",
    "\n",
    "# Classification Algorithm\n",
    "from sklearn.ensemble import RandomForestClassifier\n",
    "from sklearn.linear_model import LogisticRegression\n",
    "from sklearn.naive_bayes import GaussianNB"
   ]
  },
  {
   "cell_type": "markdown",
   "id": "4555a0c6-b7a4-4a78-af48-5c6db08e4a43",
   "metadata": {
    "id": "4555a0c6-b7a4-4a78-af48-5c6db08e4a43"
   },
   "source": [
    "<h3 style=\"color: blue;\"><b>Reading The Dataset</b></h3>"
   ]
  },
  {
   "cell_type": "code",
   "execution_count": 3,
   "id": "f6858f78-65d7-4f1e-b18b-45a933a3bc82",
   "metadata": {
    "colab": {
     "base_uri": "https://localhost:8080/",
     "height": 226
    },
    "id": "f6858f78-65d7-4f1e-b18b-45a933a3bc82",
    "outputId": "29dd845b-ce69-445c-c98a-55945d86afb2"
   },
   "outputs": [
    {
     "data": {
      "text/html": [
       "\n",
       "  <div id=\"df-b0410ee7-9e2c-4859-a596-a3d31c360be2\" class=\"colab-df-container\">\n",
       "    <div>\n",
       "<style scoped>\n",
       "    .dataframe tbody tr th:only-of-type {\n",
       "        vertical-align: middle;\n",
       "    }\n",
       "\n",
       "    .dataframe tbody tr th {\n",
       "        vertical-align: top;\n",
       "    }\n",
       "\n",
       "    .dataframe thead th {\n",
       "        text-align: right;\n",
       "    }\n",
       "</style>\n",
       "<table border=\"1\" class=\"dataframe\">\n",
       "  <thead>\n",
       "    <tr style=\"text-align: right;\">\n",
       "      <th></th>\n",
       "      <th>category_code</th>\n",
       "      <th>isClosed</th>\n",
       "      <th>founded_at</th>\n",
       "      <th>country_code</th>\n",
       "      <th>first_funding_at</th>\n",
       "      <th>last_funding_at</th>\n",
       "      <th>funding_rounds</th>\n",
       "      <th>funding_total_usd</th>\n",
       "      <th>first_milestone_at</th>\n",
       "      <th>last_milestone_at</th>\n",
       "      <th>milestones</th>\n",
       "      <th>relationships</th>\n",
       "      <th>lat</th>\n",
       "      <th>lng</th>\n",
       "      <th>active_days</th>\n",
       "    </tr>\n",
       "  </thead>\n",
       "  <tbody>\n",
       "    <tr>\n",
       "      <th>0</th>\n",
       "      <td>web</td>\n",
       "      <td>1</td>\n",
       "      <td>2007</td>\n",
       "      <td>USA</td>\n",
       "      <td>2008</td>\n",
       "      <td>2008</td>\n",
       "      <td>1</td>\n",
       "      <td>5000000.0</td>\n",
       "      <td>2008</td>\n",
       "      <td>2012</td>\n",
       "      <td>3</td>\n",
       "      <td>14</td>\n",
       "      <td>37.386052</td>\n",
       "      <td>-122.083851</td>\n",
       "      <td>4015.0</td>\n",
       "    </tr>\n",
       "    <tr>\n",
       "      <th>1</th>\n",
       "      <td>enterprise</td>\n",
       "      <td>0</td>\n",
       "      <td>2004</td>\n",
       "      <td>USA</td>\n",
       "      <td>2011</td>\n",
       "      <td>2011</td>\n",
       "      <td>1</td>\n",
       "      <td>1500000.0</td>\n",
       "      <td>2010</td>\n",
       "      <td>2010</td>\n",
       "      <td>1</td>\n",
       "      <td>8</td>\n",
       "      <td>47.610150</td>\n",
       "      <td>-122.201516</td>\n",
       "      <td>6205.0</td>\n",
       "    </tr>\n",
       "    <tr>\n",
       "      <th>2</th>\n",
       "      <td>web</td>\n",
       "      <td>0</td>\n",
       "      <td>2006</td>\n",
       "      <td>USA</td>\n",
       "      <td>2007</td>\n",
       "      <td>2007</td>\n",
       "      <td>1</td>\n",
       "      <td>2500000.0</td>\n",
       "      <td>2010</td>\n",
       "      <td>2012</td>\n",
       "      <td>2</td>\n",
       "      <td>7</td>\n",
       "      <td>37.774929</td>\n",
       "      <td>-122.419415</td>\n",
       "      <td>5475.0</td>\n",
       "    </tr>\n",
       "    <tr>\n",
       "      <th>3</th>\n",
       "      <td>ecommerce</td>\n",
       "      <td>0</td>\n",
       "      <td>2004</td>\n",
       "      <td>USA</td>\n",
       "      <td>2011</td>\n",
       "      <td>2011</td>\n",
       "      <td>1</td>\n",
       "      <td>3800000.0</td>\n",
       "      <td>2012</td>\n",
       "      <td>2012</td>\n",
       "      <td>1</td>\n",
       "      <td>9</td>\n",
       "      <td>47.610150</td>\n",
       "      <td>-122.201516</td>\n",
       "      <td>6205.0</td>\n",
       "    </tr>\n",
       "    <tr>\n",
       "      <th>4</th>\n",
       "      <td>games_video</td>\n",
       "      <td>0</td>\n",
       "      <td>2011</td>\n",
       "      <td>USA</td>\n",
       "      <td>2011</td>\n",
       "      <td>2011</td>\n",
       "      <td>1</td>\n",
       "      <td>40000.0</td>\n",
       "      <td>2012</td>\n",
       "      <td>2012</td>\n",
       "      <td>1</td>\n",
       "      <td>5</td>\n",
       "      <td>37.774929</td>\n",
       "      <td>-122.419415</td>\n",
       "      <td>3650.0</td>\n",
       "    </tr>\n",
       "  </tbody>\n",
       "</table>\n",
       "</div>\n",
       "    <div class=\"colab-df-buttons\">\n",
       "\n",
       "  <div class=\"colab-df-container\">\n",
       "    <button class=\"colab-df-convert\" onclick=\"convertToInteractive('df-b0410ee7-9e2c-4859-a596-a3d31c360be2')\"\n",
       "            title=\"Convert this dataframe to an interactive table.\"\n",
       "            style=\"display:none;\">\n",
       "\n",
       "  <svg xmlns=\"http://www.w3.org/2000/svg\" height=\"24px\" viewBox=\"0 -960 960 960\">\n",
       "    <path d=\"M120-120v-720h720v720H120Zm60-500h600v-160H180v160Zm220 220h160v-160H400v160Zm0 220h160v-160H400v160ZM180-400h160v-160H180v160Zm440 0h160v-160H620v160ZM180-180h160v-160H180v160Zm440 0h160v-160H620v160Z\"/>\n",
       "  </svg>\n",
       "    </button>\n",
       "\n",
       "  <style>\n",
       "    .colab-df-container {\n",
       "      display:flex;\n",
       "      gap: 12px;\n",
       "    }\n",
       "\n",
       "    .colab-df-convert {\n",
       "      background-color: #E8F0FE;\n",
       "      border: none;\n",
       "      border-radius: 50%;\n",
       "      cursor: pointer;\n",
       "      display: none;\n",
       "      fill: #1967D2;\n",
       "      height: 32px;\n",
       "      padding: 0 0 0 0;\n",
       "      width: 32px;\n",
       "    }\n",
       "\n",
       "    .colab-df-convert:hover {\n",
       "      background-color: #E2EBFA;\n",
       "      box-shadow: 0px 1px 2px rgba(60, 64, 67, 0.3), 0px 1px 3px 1px rgba(60, 64, 67, 0.15);\n",
       "      fill: #174EA6;\n",
       "    }\n",
       "\n",
       "    .colab-df-buttons div {\n",
       "      margin-bottom: 4px;\n",
       "    }\n",
       "\n",
       "    [theme=dark] .colab-df-convert {\n",
       "      background-color: #3B4455;\n",
       "      fill: #D2E3FC;\n",
       "    }\n",
       "\n",
       "    [theme=dark] .colab-df-convert:hover {\n",
       "      background-color: #434B5C;\n",
       "      box-shadow: 0px 1px 3px 1px rgba(0, 0, 0, 0.15);\n",
       "      filter: drop-shadow(0px 1px 2px rgba(0, 0, 0, 0.3));\n",
       "      fill: #FFFFFF;\n",
       "    }\n",
       "  </style>\n",
       "\n",
       "    <script>\n",
       "      const buttonEl =\n",
       "        document.querySelector('#df-b0410ee7-9e2c-4859-a596-a3d31c360be2 button.colab-df-convert');\n",
       "      buttonEl.style.display =\n",
       "        google.colab.kernel.accessAllowed ? 'block' : 'none';\n",
       "\n",
       "      async function convertToInteractive(key) {\n",
       "        const element = document.querySelector('#df-b0410ee7-9e2c-4859-a596-a3d31c360be2');\n",
       "        const dataTable =\n",
       "          await google.colab.kernel.invokeFunction('convertToInteractive',\n",
       "                                                    [key], {});\n",
       "        if (!dataTable) return;\n",
       "\n",
       "        const docLinkHtml = 'Like what you see? Visit the ' +\n",
       "          '<a target=\"_blank\" href=https://colab.research.google.com/notebooks/data_table.ipynb>data table notebook</a>'\n",
       "          + ' to learn more about interactive tables.';\n",
       "        element.innerHTML = '';\n",
       "        dataTable['output_type'] = 'display_data';\n",
       "        await google.colab.output.renderOutput(dataTable, element);\n",
       "        const docLink = document.createElement('div');\n",
       "        docLink.innerHTML = docLinkHtml;\n",
       "        element.appendChild(docLink);\n",
       "      }\n",
       "    </script>\n",
       "  </div>\n",
       "\n",
       "\n",
       "<div id=\"df-20ac2e5e-5c2e-4ed2-b6fd-d6d580674f4e\">\n",
       "  <button class=\"colab-df-quickchart\" onclick=\"quickchart('df-20ac2e5e-5c2e-4ed2-b6fd-d6d580674f4e')\"\n",
       "            title=\"Suggest charts\"\n",
       "            style=\"display:none;\">\n",
       "\n",
       "<svg xmlns=\"http://www.w3.org/2000/svg\" height=\"24px\"viewBox=\"0 0 24 24\"\n",
       "     width=\"24px\">\n",
       "    <g>\n",
       "        <path d=\"M19 3H5c-1.1 0-2 .9-2 2v14c0 1.1.9 2 2 2h14c1.1 0 2-.9 2-2V5c0-1.1-.9-2-2-2zM9 17H7v-7h2v7zm4 0h-2V7h2v10zm4 0h-2v-4h2v4z\"/>\n",
       "    </g>\n",
       "</svg>\n",
       "  </button>\n",
       "\n",
       "<style>\n",
       "  .colab-df-quickchart {\n",
       "      --bg-color: #E8F0FE;\n",
       "      --fill-color: #1967D2;\n",
       "      --hover-bg-color: #E2EBFA;\n",
       "      --hover-fill-color: #174EA6;\n",
       "      --disabled-fill-color: #AAA;\n",
       "      --disabled-bg-color: #DDD;\n",
       "  }\n",
       "\n",
       "  [theme=dark] .colab-df-quickchart {\n",
       "      --bg-color: #3B4455;\n",
       "      --fill-color: #D2E3FC;\n",
       "      --hover-bg-color: #434B5C;\n",
       "      --hover-fill-color: #FFFFFF;\n",
       "      --disabled-bg-color: #3B4455;\n",
       "      --disabled-fill-color: #666;\n",
       "  }\n",
       "\n",
       "  .colab-df-quickchart {\n",
       "    background-color: var(--bg-color);\n",
       "    border: none;\n",
       "    border-radius: 50%;\n",
       "    cursor: pointer;\n",
       "    display: none;\n",
       "    fill: var(--fill-color);\n",
       "    height: 32px;\n",
       "    padding: 0;\n",
       "    width: 32px;\n",
       "  }\n",
       "\n",
       "  .colab-df-quickchart:hover {\n",
       "    background-color: var(--hover-bg-color);\n",
       "    box-shadow: 0 1px 2px rgba(60, 64, 67, 0.3), 0 1px 3px 1px rgba(60, 64, 67, 0.15);\n",
       "    fill: var(--button-hover-fill-color);\n",
       "  }\n",
       "\n",
       "  .colab-df-quickchart-complete:disabled,\n",
       "  .colab-df-quickchart-complete:disabled:hover {\n",
       "    background-color: var(--disabled-bg-color);\n",
       "    fill: var(--disabled-fill-color);\n",
       "    box-shadow: none;\n",
       "  }\n",
       "\n",
       "  .colab-df-spinner {\n",
       "    border: 2px solid var(--fill-color);\n",
       "    border-color: transparent;\n",
       "    border-bottom-color: var(--fill-color);\n",
       "    animation:\n",
       "      spin 1s steps(1) infinite;\n",
       "  }\n",
       "\n",
       "  @keyframes spin {\n",
       "    0% {\n",
       "      border-color: transparent;\n",
       "      border-bottom-color: var(--fill-color);\n",
       "      border-left-color: var(--fill-color);\n",
       "    }\n",
       "    20% {\n",
       "      border-color: transparent;\n",
       "      border-left-color: var(--fill-color);\n",
       "      border-top-color: var(--fill-color);\n",
       "    }\n",
       "    30% {\n",
       "      border-color: transparent;\n",
       "      border-left-color: var(--fill-color);\n",
       "      border-top-color: var(--fill-color);\n",
       "      border-right-color: var(--fill-color);\n",
       "    }\n",
       "    40% {\n",
       "      border-color: transparent;\n",
       "      border-right-color: var(--fill-color);\n",
       "      border-top-color: var(--fill-color);\n",
       "    }\n",
       "    60% {\n",
       "      border-color: transparent;\n",
       "      border-right-color: var(--fill-color);\n",
       "    }\n",
       "    80% {\n",
       "      border-color: transparent;\n",
       "      border-right-color: var(--fill-color);\n",
       "      border-bottom-color: var(--fill-color);\n",
       "    }\n",
       "    90% {\n",
       "      border-color: transparent;\n",
       "      border-bottom-color: var(--fill-color);\n",
       "    }\n",
       "  }\n",
       "</style>\n",
       "\n",
       "  <script>\n",
       "    async function quickchart(key) {\n",
       "      const quickchartButtonEl =\n",
       "        document.querySelector('#' + key + ' button');\n",
       "      quickchartButtonEl.disabled = true;  // To prevent multiple clicks.\n",
       "      quickchartButtonEl.classList.add('colab-df-spinner');\n",
       "      try {\n",
       "        const charts = await google.colab.kernel.invokeFunction(\n",
       "            'suggestCharts', [key], {});\n",
       "      } catch (error) {\n",
       "        console.error('Error during call to suggestCharts:', error);\n",
       "      }\n",
       "      quickchartButtonEl.classList.remove('colab-df-spinner');\n",
       "      quickchartButtonEl.classList.add('colab-df-quickchart-complete');\n",
       "    }\n",
       "    (() => {\n",
       "      let quickchartButtonEl =\n",
       "        document.querySelector('#df-20ac2e5e-5c2e-4ed2-b6fd-d6d580674f4e button');\n",
       "      quickchartButtonEl.style.display =\n",
       "        google.colab.kernel.accessAllowed ? 'block' : 'none';\n",
       "    })();\n",
       "  </script>\n",
       "</div>\n",
       "\n",
       "    </div>\n",
       "  </div>\n"
      ],
      "text/plain": [
       "  category_code  isClosed  founded_at country_code  first_funding_at  \\\n",
       "0           web         1        2007          USA              2008   \n",
       "1    enterprise         0        2004          USA              2011   \n",
       "2           web         0        2006          USA              2007   \n",
       "3     ecommerce         0        2004          USA              2011   \n",
       "4   games_video         0        2011          USA              2011   \n",
       "\n",
       "   last_funding_at  funding_rounds  funding_total_usd  first_milestone_at  \\\n",
       "0             2008               1          5000000.0                2008   \n",
       "1             2011               1          1500000.0                2010   \n",
       "2             2007               1          2500000.0                2010   \n",
       "3             2011               1          3800000.0                2012   \n",
       "4             2011               1            40000.0                2012   \n",
       "\n",
       "   last_milestone_at  milestones  relationships        lat         lng  \\\n",
       "0               2012           3             14  37.386052 -122.083851   \n",
       "1               2010           1              8  47.610150 -122.201516   \n",
       "2               2012           2              7  37.774929 -122.419415   \n",
       "3               2012           1              9  47.610150 -122.201516   \n",
       "4               2012           1              5  37.774929 -122.419415   \n",
       "\n",
       "   active_days  \n",
       "0       4015.0  \n",
       "1       6205.0  \n",
       "2       5475.0  \n",
       "3       6205.0  \n",
       "4       3650.0  "
      ]
     },
     "execution_count": 3,
     "metadata": {},
     "output_type": "execute_result"
    }
   ],
   "source": [
    "df=pd.read_csv(\"/content/clean_data.csv\")\n",
    "df.rename({'status':'isClosed'}, axis=1, inplace=True)\n",
    "df['isClosed'].replace({'operating':0,'ipo':0,'acquired':1,'closed':1}, inplace=True)\n",
    "df.head()"
   ]
  },
  {
   "cell_type": "code",
   "execution_count": 4,
   "id": "385de4b8-2356-462a-ab42-7b3ef6261acf",
   "metadata": {
    "id": "385de4b8-2356-462a-ab42-7b3ef6261acf"
   },
   "outputs": [],
   "source": [
    "#due to multicollinearity\n",
    "df.drop(['first_funding_at','first_milestone_at'], axis=1, inplace=True)"
   ]
  },
  {
   "cell_type": "markdown",
   "id": "47f833e4-27e5-4687-aa30-2cb85086c649",
   "metadata": {
    "id": "47f833e4-27e5-4687-aa30-2cb85086c649"
   },
   "source": [
    "<h3 style=\"color: blue;\"><b>Train-Test Splitting</b></h2>"
   ]
  },
  {
   "cell_type": "code",
   "execution_count": 5,
   "id": "46375158-ad0d-4dea-9a59-042dfb4a7aee",
   "metadata": {
    "colab": {
     "base_uri": "https://localhost:8080/"
    },
    "id": "46375158-ad0d-4dea-9a59-042dfb4a7aee",
    "outputId": "609bbfc8-42d7-41d1-8c2e-17ebe2f2f9b3"
   },
   "outputs": [
    {
     "name": "stdout",
     "output_type": "stream",
     "text": [
      "===============================================================\n",
      "Training set shape: (7064, 12) (7064,)\n",
      "Testing set shape: (1766, 12) (1766,)\n"
     ]
    }
   ],
   "source": [
    "X = df.drop('isClosed', axis=1) #independent variable\n",
    "y = df['isClosed'] #target variable\n",
    "X_train, X_test, y_train, y_test = train_test_split(X, y, test_size=0.2, random_state=42)\n",
    "print(\"===============================================================\")\n",
    "print(\"Training set shape:\", X_train.shape, y_train.shape)\n",
    "print(\"Testing set shape:\", X_test.shape, y_test.shape)"
   ]
  },
  {
   "cell_type": "markdown",
   "id": "ab3a9f3e-3fd4-41f6-b403-15cb8fdecbf1",
   "metadata": {
    "id": "ab3a9f3e-3fd4-41f6-b403-15cb8fdecbf1"
   },
   "source": [
    "<h3 style=\"color: blue;\"><b>Creation of Columns Transformer and Other Transformer</b></h2>"
   ]
  },
  {
   "cell_type": "code",
   "execution_count": 6,
   "id": "1084cc8e-fb6f-4438-aaca-6bd474200809",
   "metadata": {
    "id": "1084cc8e-fb6f-4438-aaca-6bd474200809"
   },
   "outputs": [],
   "source": [
    "categorical_columns = ['country_code', 'category_code']  # List of your categorical column names\n",
    "numeric_columns = ['founded_at', 'last_funding_at', 'funding_rounds',\n",
    "                   'funding_total_usd', 'last_milestone_at', 'milestones',\n",
    "                   'relationships', 'lat', 'lng', 'active_days']  # List of your numeric column names\n"
   ]
  },
  {
   "cell_type": "code",
   "execution_count": 7,
   "id": "dffb4300-974c-42c6-8c5c-0c921abac9af",
   "metadata": {
    "id": "dffb4300-974c-42c6-8c5c-0c921abac9af"
   },
   "outputs": [],
   "source": [
    "#scaling\n",
    "trf1 = ColumnTransformer([\n",
    "    ('StandardScaler', StandardScaler(), numeric_columns)\n",
    "])\n"
   ]
  },
  {
   "cell_type": "code",
   "execution_count": 8,
   "id": "d9247e7e-044a-43b9-9a92-debfd256e2a6",
   "metadata": {
    "id": "d9247e7e-044a-43b9-9a92-debfd256e2a6"
   },
   "outputs": [],
   "source": [
    "#Categorical encoding\n",
    "trf2= ColumnTransformer([\n",
    "    ('OneHotEncoded', OneHotEncoder(sparse=False, handle_unknown='ignore'), categorical_columns)  # One-hot encode categorical columns\n",
    "], remainder='passthrough')\n"
   ]
  },
  {
   "cell_type": "code",
   "execution_count": 9,
   "id": "e540797c-907d-456e-abf6-6680411fc6c8",
   "metadata": {
    "id": "e540797c-907d-456e-abf6-6680411fc6c8"
   },
   "outputs": [],
   "source": [
    "#Synthetic Minority Over-sampling Technique\n",
    "trf2 = SMOTE(random_state=0)"
   ]
  },
  {
   "cell_type": "code",
   "execution_count": 10,
   "id": "4258c246-ca11-4fe3-9555-84c44caef317",
   "metadata": {
    "id": "4258c246-ca11-4fe3-9555-84c44caef317"
   },
   "outputs": [],
   "source": [
    "#Mutual Information Score\n",
    "trf3 =  SelectKBest(mutual_info_classif, k='all')"
   ]
  },
  {
   "cell_type": "code",
   "execution_count": 11,
   "id": "919b9090-4e29-4320-bc24-42e3433e3d39",
   "metadata": {
    "id": "919b9090-4e29-4320-bc24-42e3433e3d39"
   },
   "outputs": [],
   "source": [
    "#Principal Component Analysis\n",
    "trf4 = PCA()"
   ]
  },
  {
   "cell_type": "markdown",
   "id": "7fe8de2f-7236-4466-ad32-ed670a64dab6",
   "metadata": {
    "id": "7fe8de2f-7236-4466-ad32-ed670a64dab6"
   },
   "source": [
    "<h3 style=\"color: blue;\"><b>Models</b></h2>"
   ]
  },
  {
   "cell_type": "code",
   "execution_count": 12,
   "id": "5bf61396-b7b5-4339-bf4e-c2604b39357d",
   "metadata": {
    "id": "5bf61396-b7b5-4339-bf4e-c2604b39357d"
   },
   "outputs": [],
   "source": [
    "classifier_rf = RandomForestClassifier(random_state=42)\n",
    "classifier_logreg = LogisticRegression()\n",
    "classifier_nb = GaussianNB()"
   ]
  },
  {
   "cell_type": "markdown",
   "id": "a43e05ea-8c8d-4f5b-8e5f-55ef19690e93",
   "metadata": {
    "id": "a43e05ea-8c8d-4f5b-8e5f-55ef19690e93"
   },
   "source": [
    "<h3 style=\"color: blue;\"><b>Creation of Pipeline for the Models</b></h2>"
   ]
  },
  {
   "cell_type": "code",
   "execution_count": 13,
   "id": "c5c84151-430e-45ec-88f3-a1616decc775",
   "metadata": {
    "id": "c5c84151-430e-45ec-88f3-a1616decc775"
   },
   "outputs": [],
   "source": [
    "# Create a pipeline for RandomForestClassifier\n",
    "pipeline_rf = ImbPipeline([\n",
    "    ('trf1', trf1),\n",
    "    ('trf2', trf2),\n",
    "    ('trf3', trf3),\n",
    "    ('trf4', trf4),\n",
    "    ('classifier', classifier_rf),\n",
    "])\n",
    "\n",
    "# Create a pipeline for Logistic Regression\n",
    "pipeline_logreg = ImbPipeline([\n",
    "    ('trf1', trf1),\n",
    "    ('trf2', trf2),\n",
    "    ('trf3', trf3),\n",
    "    ('trf4', trf4),\n",
    "    ('classifier', classifier_logreg),\n",
    "])\n",
    "\n",
    "# Create a pipeline for Naive Bayes\n",
    "pipeline_nb = ImbPipeline([\n",
    "    ('trf1', trf1),\n",
    "    ('trf2', trf2),\n",
    "    ('trf3', trf3),\n",
    "    ('trf4', trf4),\n",
    "    ('classifier', classifier_nb),\n",
    "])\n"
   ]
  },
  {
   "cell_type": "markdown",
   "id": "f6776031-e18f-4d46-88a5-a19161db9bfe",
   "metadata": {
    "id": "f6776031-e18f-4d46-88a5-a19161db9bfe"
   },
   "source": [
    "<h3 style=\"color: blue;\"><b>Fit and evaluating the RandomForestClassifier pipeline</b></h2>"
   ]
  },
  {
   "cell_type": "code",
   "execution_count": 14,
   "id": "b66ea02e-bf7f-489d-95eb-7ce37fed3232",
   "metadata": {
    "colab": {
     "base_uri": "https://localhost:8080/",
     "height": 870
    },
    "id": "b66ea02e-bf7f-489d-95eb-7ce37fed3232",
    "outputId": "9c87c146-b8c5-44b4-fe83-5967e444c10e"
   },
   "outputs": [
    {
     "name": "stdout",
     "output_type": "stream",
     "text": [
      "==================================================================\n",
      "RandomForestClassifier Metrics:\n",
      "Train Accuracy=0.9479048697621744\n",
      "Test Accuracy=0.9479048697621744\n",
      "Precision=0.8114754098360656\n",
      "Recall=0.8114754098360656\n",
      "F1 Score=0.8114754098360656\n",
      "==================================================================\n",
      "\n",
      "\n",
      "Classification Report for RandomForestClassifier:\n",
      "              precision    recall  f1-score   support\n",
      "\n",
      "           0       0.97      0.97      0.97      1522\n",
      "           1       0.81      0.81      0.81       244\n",
      "\n",
      "    accuracy                           0.95      1766\n",
      "   macro avg       0.89      0.89      0.89      1766\n",
      "weighted avg       0.95      0.95      0.95      1766\n",
      "\n",
      "==================================================================\n"
     ]
    },
    {
     "data": {
      "image/png": "[encoded data removed]",
      "text/plain": [
       "<Figure size 600x500 with 1 Axes>"
      ]
     },
     "metadata": {},
     "output_type": "display_data"
    }
   ],
   "source": [
    "pipeline_rf.fit(X_train, y_train)\n",
    "y_pred_rf = pipeline_rf.predict(X_test)\n",
    "accuracy_rf = accuracy_score(y_test, y_pred_rf)\n",
    "precision_rf = precision_score(y_test, y_pred_rf)\n",
    "recall_rf = recall_score(y_test, y_pred_rf)\n",
    "f1_rf = f1_score(y_test, y_pred_rf)\n",
    "print(\"==================================================================\")\n",
    "print(\"RandomForestClassifier Metrics:\")\n",
    "print(\"Train Accuracy={}\".format(accuracy_rf))\n",
    "print(\"Test Accuracy={}\".format(accuracy_rf))\n",
    "print(\"Precision={}\".format(precision_rf))\n",
    "print(\"Recall={}\".format(recall_rf))\n",
    "print(\"F1 Score={}\".format(f1_rf))\n",
    "print(\"==================================================================\")\n",
    "print(\"\\n\")\n",
    "print(\"Classification Report for RandomForestClassifier:\")\n",
    "print(classification_report(y_test, y_pred_rf))\n",
    "print(\"==================================================================\")\n",
    "plt.figure(figsize=(6, 5))\n",
    "sns.heatmap(confusion_matrix(y_test, y_pred_rf), annot=True, annot_kws={\"fontsize\": 15}, linewidths=2,\n",
    "            linecolor='black', cmap='Blues', cbar=False, fmt='g')\n",
    "plt.title(\"Confusion Matrix - RandomForestClassifier\", fontsize=16)\n",
    "plt.xlabel(\"Predicted\", fontsize=18)\n",
    "plt.ylabel(\"Actual\", fontsize=18)\n",
    "plt.xticks(fontsize=15)\n",
    "plt.yticks(fontsize=15)\n",
    "plt.show()"
   ]
  },
  {
   "cell_type": "markdown",
   "id": "a0b773ef-fd88-45b0-b89f-2ee3655601cb",
   "metadata": {
    "id": "a0b773ef-fd88-45b0-b89f-2ee3655601cb"
   },
   "source": [
    "<h3 style=\"color: blue;\"><b>Fit and evaluating the Logistic Regression pipeline</b></h2>"
   ]
  },
  {
   "cell_type": "code",
   "execution_count": 15,
   "id": "d76e5514-179c-4cd2-8c4d-ab47ecc6d259",
   "metadata": {
    "colab": {
     "base_uri": "https://localhost:8080/",
     "height": 870
    },
    "id": "d76e5514-179c-4cd2-8c4d-ab47ecc6d259",
    "outputId": "f07ab064-a6d0-44f6-9c59-a287bf21984d"
   },
   "outputs": [
    {
     "name": "stdout",
     "output_type": "stream",
     "text": [
      "==================================================================\n",
      "Logistic Regression Metrics:\n",
      "Train Accuracy=0.9229898074745186\n",
      "Test Accuracy=0.9229898074745186\n",
      "Precision=0.68\n",
      "Recall=0.8360655737704918\n",
      "F1 Score=0.7500000000000001\n",
      "==================================================================\n",
      "Classification Report for Logistic Regression:\n",
      "              precision    recall  f1-score   support\n",
      "\n",
      "           0       0.97      0.94      0.95      1522\n",
      "           1       0.68      0.84      0.75       244\n",
      "\n",
      "    accuracy                           0.92      1766\n",
      "   macro avg       0.83      0.89      0.85      1766\n",
      "weighted avg       0.93      0.92      0.93      1766\n",
      "\n",
      "\n",
      "\n",
      "==================================================================\n"
     ]
    },
    {
     "data": {
      "image/png": "[encoded data removed]",
      "text/plain": [
       "<Figure size 600x500 with 1 Axes>"
      ]
     },
     "metadata": {},
     "output_type": "display_data"
    }
   ],
   "source": [
    "pipeline_logreg.fit(X_train, y_train)\n",
    "y_pred_logreg = pipeline_logreg.predict(X_test)\n",
    "accuracy_logreg = accuracy_score(y_test, y_pred_logreg)\n",
    "precision_logreg = precision_score(y_test, y_pred_logreg)\n",
    "recall_logreg = recall_score(y_test, y_pred_logreg)\n",
    "f1_logreg = f1_score(y_test, y_pred_logreg)\n",
    "print(\"==================================================================\")\n",
    "print(\"Logistic Regression Metrics:\")\n",
    "print(\"Train Accuracy={}\".format(accuracy_logreg))\n",
    "print(\"Test Accuracy={}\".format(accuracy_logreg))\n",
    "print(\"Precision={}\".format(precision_logreg))\n",
    "print(\"Recall={}\".format(recall_logreg))\n",
    "print(\"F1 Score={}\".format(f1_logreg))\n",
    "print(\"==================================================================\")\n",
    "print(\"Classification Report for Logistic Regression:\")\n",
    "print(classification_report(y_test, y_pred_logreg))\n",
    "print(\"\\n\")\n",
    "print(\"==================================================================\")\n",
    "plt.figure(figsize=(6, 5))\n",
    "sns.heatmap(confusion_matrix(y_test, y_pred_logreg), annot=True, annot_kws={\"fontsize\": 15}, linewidths=2,\n",
    "            linecolor='black', cmap='Blues', cbar=False, fmt='g')\n",
    "plt.title(\"Confusion Matrix - Logistic Regression\", fontsize=16)\n",
    "plt.xlabel(\"Predicted\", fontsize=18)\n",
    "plt.ylabel(\"Actual\", fontsize=18)\n",
    "plt.xticks(fontsize=15)\n",
    "plt.yticks(fontsize=15)\n",
    "plt.show()"
   ]
  },
  {
   "cell_type": "markdown",
   "id": "76e1f9cd-caac-44c8-bbb6-f7a40a49f038",
   "metadata": {
    "id": "76e1f9cd-caac-44c8-bbb6-f7a40a49f038"
   },
   "source": [
    "<h3 style=\"color: blue;\"><b>Fit and evaluating the Naive Bayes pipeline</b></h2>"
   ]
  },
  {
   "cell_type": "code",
   "execution_count": 16,
   "id": "60cb5bf2-ca1e-4537-9d9f-2b21cba9fffd",
   "metadata": {
    "colab": {
     "base_uri": "https://localhost:8080/",
     "height": 887
    },
    "id": "60cb5bf2-ca1e-4537-9d9f-2b21cba9fffd",
    "outputId": "2b3798bf-08a5-433d-9ee7-728c5d60a34a"
   },
   "outputs": [
    {
     "name": "stdout",
     "output_type": "stream",
     "text": [
      "==================================================================\n",
      "Naive Bayes Metrics:\n",
      "Train Accuracy=0.8731596828992072\n",
      "Test Accuracy=0.8731596828992072\n",
      "Precision=0.5268817204301075\n",
      "Recall=0.8032786885245902\n",
      "F1 Score=0.6363636363636364\n",
      "==================================================================\n",
      "Classification Report for Naive Bayes:\n",
      "              precision    recall  f1-score   support\n",
      "\n",
      "           0       0.97      0.88      0.92      1522\n",
      "           1       0.53      0.80      0.64       244\n",
      "\n",
      "    accuracy                           0.87      1766\n",
      "   macro avg       0.75      0.84      0.78      1766\n",
      "weighted avg       0.90      0.87      0.88      1766\n",
      "\n",
      "\n",
      "\n",
      "==================================================================\n"
     ]
    },
    {
     "data": {
      "image/png": "[encoded data removed]",
      "text/plain": [
       "<Figure size 600x500 with 1 Axes>"
      ]
     },
     "metadata": {},
     "output_type": "display_data"
    },
    {
     "name": "stdout",
     "output_type": "stream",
     "text": [
      "==================================================================\n"
     ]
    }
   ],
   "source": [
    "pipeline_nb.fit(X_train, y_train)\n",
    "y_pred_nb = pipeline_nb.predict(X_test)\n",
    "accuracy_nb = accuracy_score(y_test, y_pred_nb)\n",
    "precision_nb = precision_score(y_test, y_pred_nb)\n",
    "recall_nb = recall_score(y_test, y_pred_nb)\n",
    "f1_nb = f1_score(y_test, y_pred_nb)\n",
    "print(\"==================================================================\")\n",
    "print(\"Naive Bayes Metrics:\")\n",
    "print(\"Train Accuracy={}\".format(accuracy_nb))\n",
    "print(\"Test Accuracy={}\".format(accuracy_nb))\n",
    "print(\"Precision={}\".format(precision_nb))\n",
    "print(\"Recall={}\".format(recall_nb))\n",
    "print(\"F1 Score={}\".format(f1_nb))\n",
    "print(\"==================================================================\")\n",
    "print(\"Classification Report for Naive Bayes:\")\n",
    "print(classification_report(y_test, y_pred_nb))\n",
    "print(\"\\n\")\n",
    "print(\"==================================================================\")\n",
    "plt.figure(figsize=(6, 5))\n",
    "sns.heatmap(confusion_matrix(y_test, y_pred_nb), annot=True, annot_kws={\"fontsize\": 15}, linewidths=2,\n",
    "            linecolor='black', cmap='Blues', cbar=False, fmt='g')\n",
    "plt.title(\"Confusion Matrix - Naive Bayes\", fontsize=16)\n",
    "plt.xlabel(\"Predicted\", fontsize=18)\n",
    "plt.ylabel(\"Actual\", fontsize=18)\n",
    "plt.xticks(fontsize=15)\n",
    "plt.yticks(fontsize=15)\n",
    "plt.show()\n",
    "print(\"==================================================================\")\n"
   ]
  },
  {
   "cell_type": "markdown",
   "id": "tlh0UZMrzbZA",
   "metadata": {
    "id": "tlh0UZMrzbZA"
   },
   "source": [
    "### Dump the random forest model to create web application for predicting acquisition status."
   ]
  },
  {
   "cell_type": "code",
   "execution_count": 18,
   "id": "4nxkzd3YzYZh",
   "metadata": {
    "colab": {
     "base_uri": "https://localhost:8080/"
    },
    "id": "4nxkzd3YzYZh",
    "outputId": "96d1b89c-45d6-4ce7-f0e0-7388d1734026"
   },
   "outputs": [
    {
     "data": {
      "text/plain": [
       "['/content/model/pipeline_rf.joblib']"
      ]
     },
     "execution_count": 18,
     "metadata": {},
     "output_type": "execute_result"
    }
   ],
   "source": [
    "from joblib import dump, load\n",
    "\n",
    "# Save the model using joblib\n",
    "dump(pipeline_rf, '/content/model/pipeline_rf.joblib')"
   ]
  },
  {
   "cell_type": "code",
   "execution_count": null,
   "id": "0cy3TK_Pz-SN",
   "metadata": {
    "id": "0cy3TK_Pz-SN"
   },
   "outputs": [],
   "source": []
  }
 ],
 "metadata": {
  "colab": {
   "provenance": []
  },
  "kernelspec": {
   "display_name": "Python 3 (ipykernel)",
   "language": "python",
   "name": "python3"
  },
  "language_info": {
   "codemirror_mode": {
    "name": "ipython",
    "version": 3
   },
   "file_extension": ".py",
   "mimetype": "text/x-python",
   "name": "python",
   "nbconvert_exporter": "python",
   "pygments_lexer": "ipython3",
   "version": "3.9.7"
  }
 },
 "nbformat": 4,
 "nbformat_minor": 5
}
