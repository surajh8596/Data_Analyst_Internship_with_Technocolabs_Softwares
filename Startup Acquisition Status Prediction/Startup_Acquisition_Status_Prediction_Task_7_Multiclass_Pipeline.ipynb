{
 "cells": [
  {
   "cell_type": "markdown",
   "id": "898bd4b4-3c46-4ee5-a728-810e98e8acd3",
   "metadata": {},
   "source": [
    "<h1><b>Pipelining (Multi-class Classification)</b></h1>"
   ]
  },
  {
   "cell_type": "markdown",
   "id": "12100b46-fcd8-4bbb-88ed-d97904da1f81",
   "metadata": {},
   "source": [
    "<b>In machine learning, pipelining refers to the process of chaining together multiple data processing steps into a single workflow or pipeline. These steps can include data preprocessing, feature extraction, feature selection, and model training. The purpose of pipelining is to streamline the workflow, making it easier to organize and manage complex processes, especially when dealing with large datasets.</b>"
   ]
  },
  {
   "cell_type": "markdown",
   "id": "2c34e383-e136-457d-ae7c-5d520d3bed31",
   "metadata": {},
   "source": [
    "<h3 style=\"color: blue;\"><b>Loading Libraries</b></h3>"
   ]
  },
  {
   "cell_type": "code",
   "execution_count": 1,
   "id": "e6f24dfd-4da7-4817-a5f6-2bef7370c570",
   "metadata": {},
   "outputs": [],
   "source": [
    "# Data loading and manipulating libraries\n",
    "import numpy as np\n",
    "import pandas as pd\n",
    "\n",
    "# Data visualization libraries\n",
    "import matplotlib.pyplot as plt\n",
    "import seaborn as sns\n",
    "\n",
    "# Train Test Split\n",
    "from sklearn.model_selection import train_test_split\n",
    "\n",
    "# Feature Engineering-Encoding\n",
    "from sklearn.preprocessing import OneHotEncoder, LabelEncoder, StandardScaler\n",
    "\n",
    "# Feature Selection and Feature Reduction\n",
    "from sklearn.decomposition import PCA\n",
    "from sklearn.feature_selection import SelectKBest, mutual_info_classif\n",
    "\n",
    "# Oversampling the lower target class\n",
    "from imblearn.over_sampling import SMOTE\n",
    "\n",
    "# Evaluation Metrics\n",
    "from sklearn.metrics import classification_report, accuracy_score, recall_score, f1_score, precision_score, confusion_matrix\n",
    "\n",
    "#Pipeline imports\n",
    "from imblearn.pipeline import Pipeline as ImbPipeline\n",
    "from sklearn.pipeline import Pipeline\n",
    "from sklearn.compose import ColumnTransformer\n",
    "\n",
    "# Classification Algorithm\n",
    "from sklearn.discriminant_analysis import LinearDiscriminantAnalysis\n",
    "from sklearn.tree import DecisionTreeClassifier\n",
    "from sklearn.ensemble import GradientBoostingClassifier"
   ]
  },
  {
   "cell_type": "markdown",
   "id": "4cd05e27-3d47-4bbc-a52f-8f4a70cc9a8a",
   "metadata": {},
   "source": [
    "<h3 style=\"color: blue;\"><b>Reading The Dataset</b></h3>"
   ]
  },
  {
   "cell_type": "code",
   "execution_count": 2,
   "id": "48d257ad-cc21-4906-b171-6aa08762499d",
   "metadata": {},
   "outputs": [
    {
     "data": {
      "text/html": [
       "<div>\n",
       "<style scoped>\n",
       "    .dataframe tbody tr th:only-of-type {\n",
       "        vertical-align: middle;\n",
       "    }\n",
       "\n",
       "    .dataframe tbody tr th {\n",
       "        vertical-align: top;\n",
       "    }\n",
       "\n",
       "    .dataframe thead th {\n",
       "        text-align: right;\n",
       "    }\n",
       "</style>\n",
       "<table border=\"1\" class=\"dataframe\">\n",
       "  <thead>\n",
       "    <tr style=\"text-align: right;\">\n",
       "      <th></th>\n",
       "      <th>category_code</th>\n",
       "      <th>isClosed</th>\n",
       "      <th>founded_at</th>\n",
       "      <th>country_code</th>\n",
       "      <th>first_funding_at</th>\n",
       "      <th>last_funding_at</th>\n",
       "      <th>funding_rounds</th>\n",
       "      <th>funding_total_usd</th>\n",
       "      <th>first_milestone_at</th>\n",
       "      <th>last_milestone_at</th>\n",
       "      <th>milestones</th>\n",
       "      <th>relationships</th>\n",
       "      <th>lat</th>\n",
       "      <th>lng</th>\n",
       "      <th>active_days</th>\n",
       "    </tr>\n",
       "  </thead>\n",
       "  <tbody>\n",
       "    <tr>\n",
       "      <th>0</th>\n",
       "      <td>web</td>\n",
       "      <td>2</td>\n",
       "      <td>2007</td>\n",
       "      <td>USA</td>\n",
       "      <td>2008</td>\n",
       "      <td>2008</td>\n",
       "      <td>1</td>\n",
       "      <td>5000000.0</td>\n",
       "      <td>2008</td>\n",
       "      <td>2012</td>\n",
       "      <td>3</td>\n",
       "      <td>14</td>\n",
       "      <td>37.386052</td>\n",
       "      <td>-122.083851</td>\n",
       "      <td>4015.0</td>\n",
       "    </tr>\n",
       "    <tr>\n",
       "      <th>1</th>\n",
       "      <td>enterprise</td>\n",
       "      <td>0</td>\n",
       "      <td>2004</td>\n",
       "      <td>USA</td>\n",
       "      <td>2011</td>\n",
       "      <td>2011</td>\n",
       "      <td>1</td>\n",
       "      <td>1500000.0</td>\n",
       "      <td>2010</td>\n",
       "      <td>2010</td>\n",
       "      <td>1</td>\n",
       "      <td>8</td>\n",
       "      <td>47.610150</td>\n",
       "      <td>-122.201516</td>\n",
       "      <td>6205.0</td>\n",
       "    </tr>\n",
       "    <tr>\n",
       "      <th>2</th>\n",
       "      <td>web</td>\n",
       "      <td>0</td>\n",
       "      <td>2006</td>\n",
       "      <td>USA</td>\n",
       "      <td>2007</td>\n",
       "      <td>2007</td>\n",
       "      <td>1</td>\n",
       "      <td>2500000.0</td>\n",
       "      <td>2010</td>\n",
       "      <td>2012</td>\n",
       "      <td>2</td>\n",
       "      <td>7</td>\n",
       "      <td>37.774929</td>\n",
       "      <td>-122.419415</td>\n",
       "      <td>5475.0</td>\n",
       "    </tr>\n",
       "    <tr>\n",
       "      <th>3</th>\n",
       "      <td>ecommerce</td>\n",
       "      <td>0</td>\n",
       "      <td>2004</td>\n",
       "      <td>USA</td>\n",
       "      <td>2011</td>\n",
       "      <td>2011</td>\n",
       "      <td>1</td>\n",
       "      <td>3800000.0</td>\n",
       "      <td>2012</td>\n",
       "      <td>2012</td>\n",
       "      <td>1</td>\n",
       "      <td>9</td>\n",
       "      <td>47.610150</td>\n",
       "      <td>-122.201516</td>\n",
       "      <td>6205.0</td>\n",
       "    </tr>\n",
       "    <tr>\n",
       "      <th>4</th>\n",
       "      <td>games_video</td>\n",
       "      <td>0</td>\n",
       "      <td>2011</td>\n",
       "      <td>USA</td>\n",
       "      <td>2011</td>\n",
       "      <td>2011</td>\n",
       "      <td>1</td>\n",
       "      <td>40000.0</td>\n",
       "      <td>2012</td>\n",
       "      <td>2012</td>\n",
       "      <td>1</td>\n",
       "      <td>5</td>\n",
       "      <td>37.774929</td>\n",
       "      <td>-122.419415</td>\n",
       "      <td>3650.0</td>\n",
       "    </tr>\n",
       "  </tbody>\n",
       "</table>\n",
       "</div>"
      ],
      "text/plain": [
       "  category_code  isClosed  founded_at country_code  first_funding_at  \\\n",
       "0           web         2        2007          USA              2008   \n",
       "1    enterprise         0        2004          USA              2011   \n",
       "2           web         0        2006          USA              2007   \n",
       "3     ecommerce         0        2004          USA              2011   \n",
       "4   games_video         0        2011          USA              2011   \n",
       "\n",
       "   last_funding_at  funding_rounds  funding_total_usd  first_milestone_at  \\\n",
       "0             2008               1          5000000.0                2008   \n",
       "1             2011               1          1500000.0                2010   \n",
       "2             2007               1          2500000.0                2010   \n",
       "3             2011               1          3800000.0                2012   \n",
       "4             2011               1            40000.0                2012   \n",
       "\n",
       "   last_milestone_at  milestones  relationships        lat         lng  \\\n",
       "0               2012           3             14  37.386052 -122.083851   \n",
       "1               2010           1              8  47.610150 -122.201516   \n",
       "2               2012           2              7  37.774929 -122.419415   \n",
       "3               2012           1              9  47.610150 -122.201516   \n",
       "4               2012           1              5  37.774929 -122.419415   \n",
       "\n",
       "   active_days  \n",
       "0       4015.0  \n",
       "1       6205.0  \n",
       "2       5475.0  \n",
       "3       6205.0  \n",
       "4       3650.0  "
      ]
     },
     "execution_count": 2,
     "metadata": {},
     "output_type": "execute_result"
    }
   ],
   "source": [
    "df=pd.read_csv(\"data/clean_data.csv\")\n",
    "df.rename({'status':'isClosed'}, axis=1, inplace=True)\n",
    "df['isClosed'].replace({'operating':0,'ipo':1,'acquired':2,'closed':3}, inplace=True)\n",
    "df.head()"
   ]
  },
  {
   "cell_type": "code",
   "execution_count": 3,
   "id": "31df0ab6-3dde-42bd-a049-6ffaa6b05fe4",
   "metadata": {},
   "outputs": [],
   "source": [
    "##due to multicollinearity\n",
    "df.drop(['first_funding_at','first_milestone_at'], axis=1, inplace=True)"
   ]
  },
  {
   "cell_type": "markdown",
   "id": "afe9d24d-23c6-4de1-bba2-bbbe00b8c1f7",
   "metadata": {},
   "source": [
    "<h3 style=\"color: blue;\"><b>Train-Test Splitting</b></h2>"
   ]
  },
  {
   "cell_type": "code",
   "execution_count": 4,
   "id": "9213f3aa-1144-4010-b534-1c47c39c7fef",
   "metadata": {},
   "outputs": [
    {
     "name": "stdout",
     "output_type": "stream",
     "text": [
      "===============================================================\n",
      "Training set shape: (7064, 12) (7064,)\n",
      "Testing set shape: (1766, 12) (1766,)\n"
     ]
    }
   ],
   "source": [
    "X = df.drop('isClosed', axis=1) #independent variable\n",
    "y = df['isClosed'] #target variable\n",
    "X_train, X_test, y_train, y_test = train_test_split(X, y, test_size=0.2, random_state=42)\n",
    "print(\"===============================================================\")\n",
    "print(\"Training set shape:\", X_train.shape, y_train.shape)\n",
    "print(\"Testing set shape:\", X_test.shape, y_test.shape)"
   ]
  },
  {
   "cell_type": "code",
   "execution_count": 5,
   "id": "c6aac1eb-6d45-4fe3-bcb3-2f419720402a",
   "metadata": {},
   "outputs": [],
   "source": [
    "categorical_columns = ['country_code', 'category_code'] \n",
    "numeric_columns = ['founded_at','last_funding_at','funding_rounds',\n",
    "                      'funding_total_usd','last_milestone_at','milestones',\n",
    "                      'relationships','lat','lng','active_days']"
   ]
  },
  {
   "cell_type": "markdown",
   "id": "1a6e45e7-05bf-4a1b-8dcb-f308e0bcb12b",
   "metadata": {},
   "source": [
    "<h3 style=\"color: blue;\"><b>Creation of Columns Transformer and Other Transformer</b></h2>"
   ]
  },
  {
   "cell_type": "code",
   "execution_count": 6,
   "id": "ade3d3c6-c1a3-4693-80da-43324e901770",
   "metadata": {},
   "outputs": [],
   "source": [
    "#scaling \n",
    "trf1 = ColumnTransformer([\n",
    "    ('StandardScaler', StandardScaler(), numeric_columns)\n",
    "])"
   ]
  },
  {
   "cell_type": "code",
   "execution_count": 8,
   "id": "54df3051-3a05-4b29-a644-ec6af598f951",
   "metadata": {},
   "outputs": [],
   "source": [
    "#Categorical encoding\n",
    "trf2= ColumnTransformer([\n",
    "    ('OneHotEncoded', OneHotEncoder(handle_unknown='ignore'), categorical_columns)  \n",
    "], remainder='passthrough')\n"
   ]
  },
  {
   "cell_type": "code",
   "execution_count": 9,
   "id": "d55b5c00-b3b2-4a56-9890-a90136be0226",
   "metadata": {},
   "outputs": [],
   "source": [
    "#Synthetic Minority Over-sampling Technique\n",
    "trf2 = SMOTE(random_state=0)"
   ]
  },
  {
   "cell_type": "code",
   "execution_count": 10,
   "id": "c9d511e7-cf82-41fb-9c2f-0eb7df7586ac",
   "metadata": {},
   "outputs": [],
   "source": [
    "#Mutual Information Score\n",
    "trf3 =  SelectKBest(mutual_info_classif, k='all')"
   ]
  },
  {
   "cell_type": "code",
   "execution_count": 11,
   "id": "bfc4ed13-98e8-46e6-852d-14b0aefa874e",
   "metadata": {},
   "outputs": [],
   "source": [
    "#Principal Component Analysis\n",
    "trf4 = PCA()"
   ]
  },
  {
   "cell_type": "markdown",
   "id": "c88a0140-e073-41ae-9185-7ed6ac053a82",
   "metadata": {},
   "source": [
    "<h3 style=\"color: blue;\"><b>Models</b></h2>"
   ]
  },
  {
   "cell_type": "code",
   "execution_count": 12,
   "id": "073f0b63-460f-460f-a21f-5d4a75ad074a",
   "metadata": {},
   "outputs": [],
   "source": [
    "classifier_dt = DecisionTreeClassifier()\n",
    "classifier_lda = LinearDiscriminantAnalysis()\n",
    "classifier_gbc = GradientBoostingClassifier()"
   ]
  },
  {
   "cell_type": "markdown",
   "id": "bd5b1069-86bc-497c-b765-a4464f996dcc",
   "metadata": {},
   "source": [
    "<h3 style=\"color: blue;\"><b>Creation of Pipeline for the Models</b></h2>"
   ]
  },
  {
   "cell_type": "code",
   "execution_count": 13,
   "id": "78d7a5b7-6bef-4717-91ab-70acbf1acdea",
   "metadata": {},
   "outputs": [],
   "source": [
    "# Create a pipeline for DecisionTreeClassifier()\n",
    "pipeline_dt = ImbPipeline([\n",
    "    ('trf1', trf1),\n",
    "    ('trf2', trf2),\n",
    "    ('trf3', trf3),\n",
    "    ('trf4', trf4),\n",
    "    ('classifier', classifier_dt),\n",
    "])\n",
    "\n",
    "# Create a pipeline for LinearDiscriminantAnalysis()\n",
    "pipeline_lda = ImbPipeline([\n",
    "    ('trf1', trf1),\n",
    "    ('trf2', trf2),\n",
    "    ('trf3', trf3),\n",
    "    ('trf4', trf4),\n",
    "    ('classifier', classifier_lda),\n",
    "])\n",
    "\n",
    "# Create a pipeline for GradientBoostingClassifier()\n",
    "pipeline_gbc = ImbPipeline([\n",
    "    ('trf1', trf1),\n",
    "    ('trf2', trf2),\n",
    "    ('trf3', trf3),\n",
    "    ('trf4', trf4),\n",
    "    ('classifier', classifier_gbc),\n",
    "])\n"
   ]
  },
  {
   "cell_type": "markdown",
   "id": "da81e2c2-e1a4-4a82-85fa-087f566ab255",
   "metadata": {},
   "source": [
    "<h3 style=\"color: blue;\"><b>Fit and evaluating the DecisionTreeClassifier pipeline</b></h2>"
   ]
  },
  {
   "cell_type": "code",
   "execution_count": 14,
   "id": "ddf9045d-032c-4e8d-aaa2-f23ca60f6bc8",
   "metadata": {},
   "outputs": [
    {
     "name": "stdout",
     "output_type": "stream",
     "text": [
      "==================================================================\n",
      "DecisionTreeClassifier Metrics:\n",
      "Train Accuracy=0.9122310305775765\n",
      "Test Accuracy=0.9122310305775765\n",
      "Precision=0.9203804586130817\n",
      "Recall=0.9122310305775765\n",
      "F1 Score=0.9155435517159352\n",
      "==================================================================\n",
      "\n",
      "\n",
      "Classification Report for DecisionTreeClassifier:\n",
      "              precision    recall  f1-score   support\n",
      "\n",
      "           0       0.97      0.95      0.96      1506\n",
      "           1       0.44      0.44      0.44        16\n",
      "           2       0.63      0.73      0.67       211\n",
      "           3       0.65      0.79      0.71        33\n",
      "\n",
      "    accuracy                           0.91      1766\n",
      "   macro avg       0.67      0.73      0.70      1766\n",
      "weighted avg       0.92      0.91      0.92      1766\n",
      "\n",
      "==================================================================\n"
     ]
    },
    {
     "data": {
      "image/png": "[encoded data removed]",
      "text/plain": [
       "<Figure size 432x360 with 1 Axes>"
      ]
     },
     "metadata": {
      "needs_background": "light"
     },
     "output_type": "display_data"
    }
   ],
   "source": [
    "pipeline_dt.fit(X_train, y_train)\n",
    "y_pred_dt = pipeline_dt.predict(X_test)\n",
    "accuracy_dt = accuracy_score(y_test, y_pred_dt)\n",
    "precision_dt = precision_score(y_test, y_pred_dt, average='weighted') \n",
    "recall_dt = recall_score(y_test, y_pred_dt, average='weighted') \n",
    "f1_dt = f1_score(y_test, y_pred_dt, average='weighted')  \n",
    "print(\"==================================================================\")\n",
    "print(\"DecisionTreeClassifier Metrics:\")\n",
    "print(\"Train Accuracy={}\".format(accuracy_dt))\n",
    "print(\"Test Accuracy={}\".format(accuracy_dt))\n",
    "print(\"Precision={}\".format(precision_dt))\n",
    "print(\"Recall={}\".format(recall_dt))\n",
    "print(\"F1 Score={}\".format(f1_dt))\n",
    "print(\"==================================================================\")\n",
    "print(\"\\n\")\n",
    "print(\"Classification Report for DecisionTreeClassifier:\")\n",
    "print(classification_report(y_test, y_pred_dt))\n",
    "print(\"==================================================================\")\n",
    "plt.figure(figsize=(6, 5))\n",
    "sns.heatmap(confusion_matrix(y_test, y_pred_dt), annot=True, annot_kws={\"fontsize\": 15}, linewidths=2,\n",
    "            linecolor='black', cmap='Greens', cbar=False, fmt='g')\n",
    "plt.title(\"Confusion Matrix - DecisionTreeClassifier\", fontsize=16)\n",
    "plt.xlabel(\"Predicted\", fontsize=18)\n",
    "plt.ylabel(\"Actual\", fontsize=18)\n",
    "plt.xticks(fontsize=15)\n",
    "plt.yticks(fontsize=15)\n",
    "plt.show()"
   ]
  },
  {
   "cell_type": "markdown",
   "id": "ffd306c8-a5ef-463c-8e9a-fb398431185e",
   "metadata": {},
   "source": [
    "<h3 style=\"color: blue;\"><b>Fit and evaluating the LinearDiscriminantAnalysis pipeline</b></h2>"
   ]
  },
  {
   "cell_type": "code",
   "execution_count": 15,
   "id": "6a73cd44-731b-40a9-8699-b578afa2585d",
   "metadata": {},
   "outputs": [
    {
     "name": "stdout",
     "output_type": "stream",
     "text": [
      "==================================================================\n",
      "LinearDiscriminantAnalysis Metrics:\n",
      "Train Accuracy=0.8408833522083805\n",
      "Test Accuracy=0.8408833522083805\n",
      "Precision=0.8808812319883738\n",
      "Recall=0.8408833522083805\n",
      "F1 Score=0.8562809737777821\n",
      "==================================================================\n",
      "\n",
      "\n",
      "Classification Report for LinearDiscriminantAnalysis:\n",
      "              precision    recall  f1-score   support\n",
      "\n",
      "           0       0.96      0.89      0.92      1506\n",
      "           1       0.28      0.81      0.41        16\n",
      "           2       0.41      0.53      0.46       211\n",
      "           3       0.42      0.82      0.56        33\n",
      "\n",
      "    accuracy                           0.84      1766\n",
      "   macro avg       0.52      0.76      0.59      1766\n",
      "weighted avg       0.88      0.84      0.86      1766\n",
      "\n",
      "==================================================================\n"
     ]
    },
    {
     "data": {
      "image/png": "[encoded data removed]",
      "text/plain": [
       "<Figure size 432x360 with 1 Axes>"
      ]
     },
     "metadata": {
      "needs_background": "light"
     },
     "output_type": "display_data"
    },
    {
     "name": "stdout",
     "output_type": "stream",
     "text": [
      "==================================================================\n"
     ]
    }
   ],
   "source": [
    "pipeline_lda.fit(X_train, y_train)\n",
    "y_pred_lda = pipeline_lda.predict(X_test)\n",
    "\n",
    "accuracy_lda = accuracy_score(y_test, y_pred_lda)\n",
    "precision_lda = precision_score(y_test, y_pred_lda, average='weighted') \n",
    "recall_lda = recall_score(y_test, y_pred_lda, average='weighted') \n",
    "f1_lda = f1_score(y_test, y_pred_lda, average='weighted') \n",
    "\n",
    "print(\"==================================================================\")\n",
    "print(\"LinearDiscriminantAnalysis Metrics:\")\n",
    "print(\"Train Accuracy={}\".format(accuracy_lda))\n",
    "print(\"Test Accuracy={}\".format(accuracy_lda))\n",
    "print(\"Precision={}\".format(precision_lda))\n",
    "print(\"Recall={}\".format(recall_lda))\n",
    "print(\"F1 Score={}\".format(f1_lda))\n",
    "print(\"==================================================================\")\n",
    "print(\"\\n\")\n",
    "print(\"Classification Report for LinearDiscriminantAnalysis:\")\n",
    "print(classification_report(y_test, y_pred_lda))\n",
    "print(\"==================================================================\")\n",
    "plt.figure(figsize=(6, 5))\n",
    "sns.heatmap(confusion_matrix(y_test, y_pred_lda), annot=True, annot_kws={\"fontsize\": 15}, linewidths=2,\n",
    "            linecolor='black', cmap='Greens', cbar=False, fmt='g')\n",
    "plt.title(\"Confusion Matrix - LinearDiscriminantAnalysis\", fontsize=16)\n",
    "plt.xlabel(\"Predicted\", fontsize=18)\n",
    "plt.ylabel(\"Actual\", fontsize=18)\n",
    "plt.xticks(fontsize=15)\n",
    "plt.yticks(fontsize=15)\n",
    "plt.show()\n",
    "print(\"==================================================================\")\n"
   ]
  },
  {
   "cell_type": "markdown",
   "id": "e28b9d41-104b-4215-963e-a82f49346355",
   "metadata": {},
   "source": [
    "<h3 style=\"color: blue;\"><b>Fit and evaluating the GradientBoostingClassifier pipeline</b></h2>"
   ]
  },
  {
   "cell_type": "code",
   "execution_count": 16,
   "id": "db7b163b-a373-4555-b15f-5f3f96cae006",
   "metadata": {},
   "outputs": [
    {
     "name": "stdout",
     "output_type": "stream",
     "text": [
      "==================================================================\n",
      "GradientBoostingClassifier Metrics:\n",
      "Train Accuracy=0.9161947904869762\n",
      "Test Accuracy=0.9161947904869762\n",
      "Precision=0.9352202104827096\n",
      "Recall=0.9161947904869762\n",
      "F1 Score=0.9224379929445586\n",
      "==================================================================\n",
      "\n",
      "\n",
      "Classification Report for GradientBoostingClassifier:\n",
      "              precision    recall  f1-score   support\n",
      "\n",
      "           0       0.99      0.93      0.96      1506\n",
      "           1       0.50      0.81      0.62        16\n",
      "           2       0.62      0.85      0.72       211\n",
      "           3       0.81      0.79      0.80        33\n",
      "\n",
      "    accuracy                           0.92      1766\n",
      "   macro avg       0.73      0.85      0.77      1766\n",
      "weighted avg       0.94      0.92      0.92      1766\n",
      "\n",
      "==================================================================\n"
     ]
    },
    {
     "data": {
      "image/png": "[encoded data removed]",
      "text/plain": [
       "<Figure size 432x360 with 1 Axes>"
      ]
     },
     "metadata": {
      "needs_background": "light"
     },
     "output_type": "display_data"
    }
   ],
   "source": [
    "pipeline_gbc.fit(X_train, y_train)\n",
    "y_pred_gbc = pipeline_gbc.predict(X_test)\n",
    "\n",
    "accuracy_gbc = accuracy_score(y_test, y_pred_gbc)\n",
    "precision_gbc = precision_score(y_test, y_pred_gbc, average='weighted') \n",
    "recall_gbc = recall_score(y_test, y_pred_gbc, average='weighted') \n",
    "f1_gbc = f1_score(y_test, y_pred_gbc, average='weighted') \n",
    "print(\"==================================================================\")\n",
    "print(\"GradientBoostingClassifier Metrics:\")\n",
    "print(\"Train Accuracy={}\".format(accuracy_gbc))\n",
    "print(\"Test Accuracy={}\".format(accuracy_gbc))\n",
    "print(\"Precision={}\".format(precision_gbc))\n",
    "print(\"Recall={}\".format(recall_gbc))\n",
    "print(\"F1 Score={}\".format(f1_gbc))\n",
    "print(\"==================================================================\")\n",
    "print(\"\\n\")\n",
    "print(\"Classification Report for GradientBoostingClassifier:\")\n",
    "print(classification_report(y_test, y_pred_gbc))\n",
    "print(\"==================================================================\")\n",
    "plt.figure(figsize=(6, 5))\n",
    "sns.heatmap(confusion_matrix(y_test, y_pred_gbc), annot=True, annot_kws={\"fontsize\": 15}, linewidths=2,\n",
    "            linecolor='black', cmap='Greens', cbar=False, fmt='g')\n",
    "plt.title(\"Confusion Matrix - GradientBoostingClassifier\", fontsize=16)\n",
    "plt.xlabel(\"Predicted\", fontsize=18)\n",
    "plt.ylabel(\"Actual\", fontsize=18)\n",
    "plt.xticks(fontsize=15)\n",
    "plt.yticks(fontsize=15)\n",
    "plt.show()\n"
   ]
  },
  {
   "cell_type": "markdown",
   "id": "a7a4ad34",
   "metadata": {},
   "source": [
    "### Gradient Boosting Classifier is the best multiclass model."
   ]
  },
  {
   "cell_type": "code",
   "execution_count": null,
   "id": "aca8ad5c-854d-401d-aacb-2d16c2a561a5",
   "metadata": {},
   "outputs": [],
   "source": []
  }
 ],
 "metadata": {
  "kernelspec": {
   "display_name": "Python 3 (ipykernel)",
   "language": "python",
   "name": "python3"
  },
  "language_info": {
   "codemirror_mode": {
    "name": "ipython",
    "version": 3
   },
   "file_extension": ".py",
   "mimetype": "text/x-python",
   "name": "python",
   "nbconvert_exporter": "python",
   "pygments_lexer": "ipython3",
   "version": "3.9.7"
  }
 },
 "nbformat": 4,
 "nbformat_minor": 5
}
